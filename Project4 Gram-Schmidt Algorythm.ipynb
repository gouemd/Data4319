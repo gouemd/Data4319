{
 "cells": [
  {
   "cell_type": "markdown",
   "metadata": {},
   "source": [
    "## Gram-Schmidt Algorythm\n",
    "#### This function will in an array as an input [a[1]..........a[k]]  with a k number of vectors.\n",
    "\n",
    " "
   ]
  },
  {
   "cell_type": "markdown",
   "metadata": {},
   "source": [
    "#### it will return an array [ q[1], ..., q[k] ] with the orthonormal set of vectors computed by the Gram– Schmidt algorithm if the vectors are linearly independent, . However, if the vectors are linearly dependent and the Gram–Schnidt algorithm terminates early in iteration i, it returns the array [ q[1], ..., q[i] ] of length i.\n"
   ]
  },
  {
   "cell_type": "code",
   "execution_count": 1,
   "metadata": {},
   "outputs": [
    {
     "data": {
      "text/plain": [
       "gram_schmidt (generic function with 1 method)"
      ]
     },
     "execution_count": 1,
     "metadata": {},
     "output_type": "execute_result"
    }
   ],
   "source": [
    "function gram_schmidt(a; tol = 1e-10)\n",
    "    q = []\n",
    "    for i = 1:length(a)\n",
    "        qtilde = a[i]\n",
    "        for j = 1:i-1\n",
    "            qtilde -= (q[j]'*a[i]) * q[j]\n",
    "            end\n",
    "        if norm(qtilde) < tol\n",
    "            println(\"Vectors are linearly dependent.\")\n",
    "            return q\n",
    "        end \n",
    "        push!(q, qtilde/norm(qtilde))\n",
    "    end; \n",
    "    return q\n",
    "end"
   ]
  },
  {
   "cell_type": "markdown",
   "metadata": {},
   "source": [
    "### Let's implement the gram_schmidt algorythm"
   ]
  },
  {
   "cell_type": "code",
   "execution_count": 2,
   "metadata": {},
   "outputs": [
    {
     "data": {
      "text/plain": [
       "3-element Array{Array{Int64,1},1}:\n",
       " [-1, 1, -1, 1]\n",
       " [-1, 3, -1, 3]\n",
       " [1, 3, 5, 7]  "
      ]
     },
     "execution_count": 2,
     "metadata": {},
     "output_type": "execute_result"
    }
   ],
   "source": [
    " a = [ [-1, 1, -1, 1], [-1, 3, -1, 3], [1, 3, 5, 7] ]"
   ]
  },
  {
   "cell_type": "code",
   "execution_count": 3,
   "metadata": {},
   "outputs": [
    {
     "ename": "UndefVarError",
     "evalue": "UndefVarError: norm not defined",
     "output_type": "error",
     "traceback": [
      "UndefVarError: norm not defined",
      "",
      "Stacktrace:",
      " [1] #gram_schmidt#3(::Float64, ::Function, ::Array{Array{Int64,1},1}) at ./In[1]:8",
      " [2] gram_schmidt(::Array{Array{Int64,1},1}) at ./In[1]:2",
      " [3] top-level scope at In[3]:1"
     ]
    }
   ],
   "source": [
    " q = gram_schmidt(a) "
   ]
  },
  {
   "cell_type": "markdown",
   "metadata": {},
   "source": [
    "### Let's test orthnormality "
   ]
  },
  {
   "cell_type": "code",
   "execution_count": 4,
   "metadata": {},
   "outputs": [
    {
     "ename": "UndefVarError",
     "evalue": "UndefVarError: q not defined",
     "output_type": "error",
     "traceback": [
      "UndefVarError: q not defined",
      "",
      "Stacktrace:",
      " [1] top-level scope at In[4]:1"
     ]
    }
   ],
   "source": [
    " norm(q[1]) "
   ]
  },
  {
   "cell_type": "code",
   "execution_count": 5,
   "metadata": {},
   "outputs": [
    {
     "ename": "UndefVarError",
     "evalue": "UndefVarError: q not defined",
     "output_type": "error",
     "traceback": [
      "UndefVarError: q not defined",
      "",
      "Stacktrace:",
      " [1] top-level scope at In[5]:1"
     ]
    }
   ],
   "source": [
    " q[1]'*q[2] "
   ]
  },
  {
   "cell_type": "code",
   "execution_count": 6,
   "metadata": {},
   "outputs": [
    {
     "ename": "UndefVarError",
     "evalue": "UndefVarError: q not defined",
     "output_type": "error",
     "traceback": [
      "UndefVarError: q not defined",
      "",
      "Stacktrace:",
      " [1] top-level scope at In[6]:1"
     ]
    }
   ],
   "source": [
    "q[1]'*q[3] "
   ]
  },
  {
   "cell_type": "code",
   "execution_count": 7,
   "metadata": {},
   "outputs": [
    {
     "ename": "UndefVarError",
     "evalue": "UndefVarError: q not defined",
     "output_type": "error",
     "traceback": [
      "UndefVarError: q not defined",
      "",
      "Stacktrace:",
      " [1] top-level scope at In[7]:1"
     ]
    }
   ],
   "source": [
    " norm(q[2]) "
   ]
  },
  {
   "cell_type": "code",
   "execution_count": 8,
   "metadata": {},
   "outputs": [
    {
     "ename": "UndefVarError",
     "evalue": "UndefVarError: q not defined",
     "output_type": "error",
     "traceback": [
      "UndefVarError: q not defined",
      "",
      "Stacktrace:",
      " [1] top-level scope at In[8]:1"
     ]
    }
   ],
   "source": [
    " q[2]'*q[3] "
   ]
  },
  {
   "cell_type": "code",
   "execution_count": 9,
   "metadata": {},
   "outputs": [
    {
     "ename": "UndefVarError",
     "evalue": "UndefVarError: q not defined",
     "output_type": "error",
     "traceback": [
      "UndefVarError: q not defined",
      "",
      "Stacktrace:",
      " [1] top-level scope at In[9]:1"
     ]
    }
   ],
   "source": [
    " norm(q[3]) "
   ]
  }
 ],
 "metadata": {
  "kernelspec": {
   "display_name": "Julia 1.0.3",
   "language": "julia",
   "name": "julia-1.0"
  },
  "language_info": {
   "file_extension": ".jl",
   "mimetype": "application/julia",
   "name": "julia",
   "version": "1.0.3"
  }
 },
 "nbformat": 4,
 "nbformat_minor": 2
}
