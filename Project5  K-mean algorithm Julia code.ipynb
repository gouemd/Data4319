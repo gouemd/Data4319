{
 "cells": [
  {
   "cell_type": "code",
   "execution_count": 1,
   "metadata": {},
   "outputs": [],
   "source": [
    "using Plots\n",
    "using statistics\n",
    "theme(:dark)"
   ]
  },
  {
   "cell_type": "code",
   "execution_count": 2,
   "metadata": {},
   "outputs": [
    {
     "data": {
      "text/plain": [
       "distance (generic function with 1 method)"
      ]
     },
     "execution_count": 2,
     "metadata": {},
     "output_type": "execute_result"
    }
   ],
   "source": [
    "distance(p1,p2) =  sqrt((p1[1]-p2[1])^2 + (p1[2]-p2[2])^2)"
   ]
  },
  {
   "cell_type": "code",
   "execution_count": 5,
   "metadata": {},
   "outputs": [
    {
     "data": {
      "text/plain": [
       "20-element Array{Tuple{Int64,Int64},1}:\n",
       " (69, 73)\n",
       " (64, 76)\n",
       " (49, 74)\n",
       " (65, 64)\n",
       " (50, 57)\n",
       " (50, 75)\n",
       " (59, 47)\n",
       " (56, 63)\n",
       " (62, 72)\n",
       " (56, 47)\n",
       " (57, 67)\n",
       " (70, 67)\n",
       " (63, 51)\n",
       " (46, 66)\n",
       " (45, 71)\n",
       " (60, 58)\n",
       " (64, 58)\n",
       " (57, 69)\n",
       " (66, 50)\n",
       " (47, 74)"
      ]
     },
     "execution_count": 5,
     "metadata": {},
     "output_type": "execute_result"
    }
   ],
   "source": [
    "cluster1 = [p for p in zip(rand(1:150, 20), rand(1:70,20))]\n",
    "cluster2 = [p for p in zip(rand(45:70, 20), rand(46:80,20))];"
   ]
  },
  {
   "cell_type": "code",
   "execution_count": 10,
   "metadata": {},
   "outputs": [
    {
     "data": {
      "image/svg+xml": [
       "<?xml version=\"1.0\" encoding=\"utf-8\"?>\n",
       "<svg xmlns=\"http://www.w3.org/2000/svg\" xmlns:xlink=\"http://www.w3.org/1999/xlink\" width=\"600\" height=\"400\" viewBox=\"0 0 2400 1600\">\n",
       "<defs>\n",
       "  <clipPath id=\"clip2300\">\n",
       "    <rect x=\"0\" y=\"0\" width=\"2000\" height=\"2000\"/>\n",
       "  </clipPath>\n",
       "</defs>\n",
       "<defs>\n",
       "  <clipPath id=\"clip2301\">\n",
       "    <rect x=\"0\" y=\"0\" width=\"2400\" height=\"1600\"/>\n",
       "  </clipPath>\n",
       "</defs>\n",
       "<polygon clip-path=\"url(#clip2301)\" points=\"\n",
       "0,1600 2400,1600 2400,0 0,0 \n",
       "  \" fill=\"#363c46\" fill-rule=\"evenodd\" fill-opacity=\"1\"/>\n",
       "<defs>\n",
       "  <clipPath id=\"clip2302\">\n",
       "    <rect x=\"480\" y=\"0\" width=\"1681\" height=\"1600\"/>\n",
       "  </clipPath>\n",
       "</defs>\n",
       "<polygon clip-path=\"url(#clip2301)\" points=\"\n",
       "211.005,1440.48 2321.26,1440.48 2321.26,125.984 211.005,125.984 \n",
       "  \" fill=\"#30343b\" fill-rule=\"evenodd\" fill-opacity=\"1\"/>\n",
       "<defs>\n",
       "  <clipPath id=\"clip2303\">\n",
       "    <rect x=\"211\" y=\"125\" width=\"2111\" height=\"1315\"/>\n",
       "  </clipPath>\n",
       "</defs>\n",
       "<polyline clip-path=\"url(#clip2303)\" style=\"stroke:#adb2b7; stroke-width:2; stroke-opacity:0.1; fill:none\" points=\"\n",
       "  331.517,1440.48 331.517,125.984 \n",
       "  \"/>\n",
       "<polyline clip-path=\"url(#clip2303)\" style=\"stroke:#adb2b7; stroke-width:2; stroke-opacity:0.1; fill:none\" points=\"\n",
       "  635.457,1440.48 635.457,125.984 \n",
       "  \"/>\n",
       "<polyline clip-path=\"url(#clip2303)\" style=\"stroke:#adb2b7; stroke-width:2; stroke-opacity:0.1; fill:none\" points=\"\n",
       "  939.397,1440.48 939.397,125.984 \n",
       "  \"/>\n",
       "<polyline clip-path=\"url(#clip2303)\" style=\"stroke:#adb2b7; stroke-width:2; stroke-opacity:0.1; fill:none\" points=\"\n",
       "  1243.34,1440.48 1243.34,125.984 \n",
       "  \"/>\n",
       "<polyline clip-path=\"url(#clip2303)\" style=\"stroke:#adb2b7; stroke-width:2; stroke-opacity:0.1; fill:none\" points=\"\n",
       "  1547.28,1440.48 1547.28,125.984 \n",
       "  \"/>\n",
       "<polyline clip-path=\"url(#clip2303)\" style=\"stroke:#adb2b7; stroke-width:2; stroke-opacity:0.1; fill:none\" points=\"\n",
       "  1851.22,1440.48 1851.22,125.984 \n",
       "  \"/>\n",
       "<polyline clip-path=\"url(#clip2303)\" style=\"stroke:#adb2b7; stroke-width:2; stroke-opacity:0.1; fill:none\" points=\"\n",
       "  2155.16,1440.48 2155.16,125.984 \n",
       "  \"/>\n",
       "<polyline clip-path=\"url(#clip2303)\" style=\"stroke:#adb2b7; stroke-width:2; stroke-opacity:0.1; fill:none\" points=\"\n",
       "  211.005,1436.8 2321.26,1436.8 \n",
       "  \"/>\n",
       "<polyline clip-path=\"url(#clip2303)\" style=\"stroke:#adb2b7; stroke-width:2; stroke-opacity:0.1; fill:none\" points=\"\n",
       "  211.005,1101.64 2321.26,1101.64 \n",
       "  \"/>\n",
       "<polyline clip-path=\"url(#clip2303)\" style=\"stroke:#adb2b7; stroke-width:2; stroke-opacity:0.1; fill:none\" points=\"\n",
       "  211.005,766.475 2321.26,766.475 \n",
       "  \"/>\n",
       "<polyline clip-path=\"url(#clip2303)\" style=\"stroke:#adb2b7; stroke-width:2; stroke-opacity:0.1; fill:none\" points=\"\n",
       "  211.005,431.315 2321.26,431.315 \n",
       "  \"/>\n",
       "<polyline clip-path=\"url(#clip2301)\" style=\"stroke:#adb2b7; stroke-width:4; stroke-opacity:1; fill:none\" points=\"\n",
       "  211.005,1440.48 2321.26,1440.48 \n",
       "  \"/>\n",
       "<polyline clip-path=\"url(#clip2301)\" style=\"stroke:#adb2b7; stroke-width:4; stroke-opacity:1; fill:none\" points=\"\n",
       "  211.005,1440.48 211.005,125.984 \n",
       "  \"/>\n",
       "<polyline clip-path=\"url(#clip2301)\" style=\"stroke:#adb2b7; stroke-width:4; stroke-opacity:1; fill:none\" points=\"\n",
       "  331.517,1440.48 331.517,1420.77 \n",
       "  \"/>\n",
       "<polyline clip-path=\"url(#clip2301)\" style=\"stroke:#adb2b7; stroke-width:4; stroke-opacity:1; fill:none\" points=\"\n",
       "  635.457,1440.48 635.457,1420.77 \n",
       "  \"/>\n",
       "<polyline clip-path=\"url(#clip2301)\" style=\"stroke:#adb2b7; stroke-width:4; stroke-opacity:1; fill:none\" points=\"\n",
       "  939.397,1440.48 939.397,1420.77 \n",
       "  \"/>\n",
       "<polyline clip-path=\"url(#clip2301)\" style=\"stroke:#adb2b7; stroke-width:4; stroke-opacity:1; fill:none\" points=\"\n",
       "  1243.34,1440.48 1243.34,1420.77 \n",
       "  \"/>\n",
       "<polyline clip-path=\"url(#clip2301)\" style=\"stroke:#adb2b7; stroke-width:4; stroke-opacity:1; fill:none\" points=\"\n",
       "  1547.28,1440.48 1547.28,1420.77 \n",
       "  \"/>\n",
       "<polyline clip-path=\"url(#clip2301)\" style=\"stroke:#adb2b7; stroke-width:4; stroke-opacity:1; fill:none\" points=\"\n",
       "  1851.22,1440.48 1851.22,1420.77 \n",
       "  \"/>\n",
       "<polyline clip-path=\"url(#clip2301)\" style=\"stroke:#adb2b7; stroke-width:4; stroke-opacity:1; fill:none\" points=\"\n",
       "  2155.16,1440.48 2155.16,1420.77 \n",
       "  \"/>\n",
       "<polyline clip-path=\"url(#clip2301)\" style=\"stroke:#adb2b7; stroke-width:4; stroke-opacity:1; fill:none\" points=\"\n",
       "  211.005,1436.8 242.659,1436.8 \n",
       "  \"/>\n",
       "<polyline clip-path=\"url(#clip2301)\" style=\"stroke:#adb2b7; stroke-width:4; stroke-opacity:1; fill:none\" points=\"\n",
       "  211.005,1101.64 242.659,1101.64 \n",
       "  \"/>\n",
       "<polyline clip-path=\"url(#clip2301)\" style=\"stroke:#adb2b7; stroke-width:4; stroke-opacity:1; fill:none\" points=\"\n",
       "  211.005,766.475 242.659,766.475 \n",
       "  \"/>\n",
       "<polyline clip-path=\"url(#clip2301)\" style=\"stroke:#adb2b7; stroke-width:4; stroke-opacity:1; fill:none\" points=\"\n",
       "  211.005,431.315 242.659,431.315 \n",
       "  \"/>\n",
       "<g clip-path=\"url(#clip2301)\">\n",
       "<text style=\"fill:#ffffff; fill-opacity:1; font-family:Arial,Helvetica Neue,Helvetica,sans-serif; font-size:48px; text-anchor:middle;\" transform=\"rotate(0, 331.517, 1494.48)\" x=\"331.517\" y=\"1494.48\">20</text>\n",
       "</g>\n",
       "<g clip-path=\"url(#clip2301)\">\n",
       "<text style=\"fill:#ffffff; fill-opacity:1; font-family:Arial,Helvetica Neue,Helvetica,sans-serif; font-size:48px; text-anchor:middle;\" transform=\"rotate(0, 635.457, 1494.48)\" x=\"635.457\" y=\"1494.48\">40</text>\n",
       "</g>\n",
       "<g clip-path=\"url(#clip2301)\">\n",
       "<text style=\"fill:#ffffff; fill-opacity:1; font-family:Arial,Helvetica Neue,Helvetica,sans-serif; font-size:48px; text-anchor:middle;\" transform=\"rotate(0, 939.397, 1494.48)\" x=\"939.397\" y=\"1494.48\">60</text>\n",
       "</g>\n",
       "<g clip-path=\"url(#clip2301)\">\n",
       "<text style=\"fill:#ffffff; fill-opacity:1; font-family:Arial,Helvetica Neue,Helvetica,sans-serif; font-size:48px; text-anchor:middle;\" transform=\"rotate(0, 1243.34, 1494.48)\" x=\"1243.34\" y=\"1494.48\">80</text>\n",
       "</g>\n",
       "<g clip-path=\"url(#clip2301)\">\n",
       "<text style=\"fill:#ffffff; fill-opacity:1; font-family:Arial,Helvetica Neue,Helvetica,sans-serif; font-size:48px; text-anchor:middle;\" transform=\"rotate(0, 1547.28, 1494.48)\" x=\"1547.28\" y=\"1494.48\">100</text>\n",
       "</g>\n",
       "<g clip-path=\"url(#clip2301)\">\n",
       "<text style=\"fill:#ffffff; fill-opacity:1; font-family:Arial,Helvetica Neue,Helvetica,sans-serif; font-size:48px; text-anchor:middle;\" transform=\"rotate(0, 1851.22, 1494.48)\" x=\"1851.22\" y=\"1494.48\">120</text>\n",
       "</g>\n",
       "<g clip-path=\"url(#clip2301)\">\n",
       "<text style=\"fill:#ffffff; fill-opacity:1; font-family:Arial,Helvetica Neue,Helvetica,sans-serif; font-size:48px; text-anchor:middle;\" transform=\"rotate(0, 2155.16, 1494.48)\" x=\"2155.16\" y=\"1494.48\">140</text>\n",
       "</g>\n",
       "<g clip-path=\"url(#clip2301)\">\n",
       "<text style=\"fill:#ffffff; fill-opacity:1; font-family:Arial,Helvetica Neue,Helvetica,sans-serif; font-size:48px; text-anchor:end;\" transform=\"rotate(0, 187.005, 1454.3)\" x=\"187.005\" y=\"1454.3\">0</text>\n",
       "</g>\n",
       "<g clip-path=\"url(#clip2301)\">\n",
       "<text style=\"fill:#ffffff; fill-opacity:1; font-family:Arial,Helvetica Neue,Helvetica,sans-serif; font-size:48px; text-anchor:end;\" transform=\"rotate(0, 187.005, 1119.14)\" x=\"187.005\" y=\"1119.14\">20</text>\n",
       "</g>\n",
       "<g clip-path=\"url(#clip2301)\">\n",
       "<text style=\"fill:#ffffff; fill-opacity:1; font-family:Arial,Helvetica Neue,Helvetica,sans-serif; font-size:48px; text-anchor:end;\" transform=\"rotate(0, 187.005, 783.975)\" x=\"187.005\" y=\"783.975\">40</text>\n",
       "</g>\n",
       "<g clip-path=\"url(#clip2301)\">\n",
       "<text style=\"fill:#ffffff; fill-opacity:1; font-family:Arial,Helvetica Neue,Helvetica,sans-serif; font-size:48px; text-anchor:end;\" transform=\"rotate(0, 187.005, 448.815)\" x=\"187.005\" y=\"448.815\">60</text>\n",
       "</g>\n",
       "<g clip-path=\"url(#clip2301)\">\n",
       "<text style=\"fill:#adadad; fill-opacity:1; font-family:Arial,Helvetica Neue,Helvetica,sans-serif; font-size:84px; text-anchor:middle;\" transform=\"rotate(0, 1266.13, 73.2)\" x=\"1266.13\" y=\"73.2\"> Random Data</text>\n",
       "</g>\n",
       "<g clip-path=\"url(#clip2301)\">\n",
       "<text style=\"fill:#ffffff; fill-opacity:1; font-family:Arial,Helvetica Neue,Helvetica,sans-serif; font-size:66px; text-anchor:middle;\" transform=\"rotate(0, 1266.13, 1590.4)\" x=\"1266.13\" y=\"1590.4\">x</text>\n",
       "</g>\n",
       "<g clip-path=\"url(#clip2301)\">\n",
       "<text style=\"fill:#ffffff; fill-opacity:1; font-family:Arial,Helvetica Neue,Helvetica,sans-serif; font-size:66px; text-anchor:middle;\" transform=\"rotate(-90, 57.6, 783.233)\" x=\"57.6\" y=\"783.233\">y</text>\n",
       "</g>\n",
       "<circle clip-path=\"url(#clip2303)\" style=\"fill:#adb2b7; stroke:none; fill-opacity:1\" cx=\"1000.18\" cy=\"515.105\" r=\"18\"/>\n",
       "<circle clip-path=\"url(#clip2303)\" style=\"fill:#0000ff; stroke:none; fill-opacity:1\" cx=\"1000.18\" cy=\"515.105\" r=\"14\"/>\n",
       "<circle clip-path=\"url(#clip2303)\" style=\"fill:#adb2b7; stroke:none; fill-opacity:1\" cx=\"1820.82\" cy=\"397.799\" r=\"18\"/>\n",
       "<circle clip-path=\"url(#clip2303)\" style=\"fill:#0000ff; stroke:none; fill-opacity:1\" cx=\"1820.82\" cy=\"397.799\" r=\"14\"/>\n",
       "<circle clip-path=\"url(#clip2303)\" style=\"fill:#adb2b7; stroke:none; fill-opacity:1\" cx=\"954.594\" cy=\"766.475\" r=\"18\"/>\n",
       "<circle clip-path=\"url(#clip2303)\" style=\"fill:#0000ff; stroke:none; fill-opacity:1\" cx=\"954.594\" cy=\"766.475\" r=\"14\"/>\n",
       "<circle clip-path=\"url(#clip2303)\" style=\"fill:#adb2b7; stroke:none; fill-opacity:1\" cx=\"270.729\" cy=\"1001.09\" r=\"18\"/>\n",
       "<circle clip-path=\"url(#clip2303)\" style=\"fill:#0000ff; stroke:none; fill-opacity:1\" cx=\"270.729\" cy=\"1001.09\" r=\"14\"/>\n",
       "<circle clip-path=\"url(#clip2303)\" style=\"fill:#adb2b7; stroke:none; fill-opacity:1\" cx=\"741.836\" cy=\"632.411\" r=\"18\"/>\n",
       "<circle clip-path=\"url(#clip2303)\" style=\"fill:#0000ff; stroke:none; fill-opacity:1\" cx=\"741.836\" cy=\"632.411\" r=\"14\"/>\n",
       "<circle clip-path=\"url(#clip2303)\" style=\"fill:#adb2b7; stroke:none; fill-opacity:1\" cx=\"1364.91\" cy=\"732.959\" r=\"18\"/>\n",
       "<circle clip-path=\"url(#clip2303)\" style=\"fill:#0000ff; stroke:none; fill-opacity:1\" cx=\"1364.91\" cy=\"732.959\" r=\"14\"/>\n",
       "<circle clip-path=\"url(#clip2303)\" style=\"fill:#adb2b7; stroke:none; fill-opacity:1\" cx=\"1668.85\" cy=\"330.767\" r=\"18\"/>\n",
       "<circle clip-path=\"url(#clip2303)\" style=\"fill:#0000ff; stroke:none; fill-opacity:1\" cx=\"1668.85\" cy=\"330.767\" r=\"14\"/>\n",
       "<circle clip-path=\"url(#clip2303)\" style=\"fill:#adb2b7; stroke:none; fill-opacity:1\" cx=\"437.896\" cy=\"867.023\" r=\"18\"/>\n",
       "<circle clip-path=\"url(#clip2303)\" style=\"fill:#0000ff; stroke:none; fill-opacity:1\" cx=\"437.896\" cy=\"867.023\" r=\"14\"/>\n",
       "<circle clip-path=\"url(#clip2303)\" style=\"fill:#adb2b7; stroke:none; fill-opacity:1\" cx=\"574.669\" cy=\"297.251\" r=\"18\"/>\n",
       "<circle clip-path=\"url(#clip2303)\" style=\"fill:#0000ff; stroke:none; fill-opacity:1\" cx=\"574.669\" cy=\"297.251\" r=\"14\"/>\n",
       "<circle clip-path=\"url(#clip2303)\" style=\"fill:#adb2b7; stroke:none; fill-opacity:1\" cx=\"1668.85\" cy=\"615.653\" r=\"18\"/>\n",
       "<circle clip-path=\"url(#clip2303)\" style=\"fill:#0000ff; stroke:none; fill-opacity:1\" cx=\"1668.85\" cy=\"615.653\" r=\"14\"/>\n",
       "<circle clip-path=\"url(#clip2303)\" style=\"fill:#adb2b7; stroke:none; fill-opacity:1\" cx=\"833.018\" cy=\"297.251\" r=\"18\"/>\n",
       "<circle clip-path=\"url(#clip2303)\" style=\"fill:#0000ff; stroke:none; fill-opacity:1\" cx=\"833.018\" cy=\"297.251\" r=\"14\"/>\n",
       "<circle clip-path=\"url(#clip2303)\" style=\"fill:#adb2b7; stroke:none; fill-opacity:1\" cx=\"407.502\" cy=\"816.749\" r=\"18\"/>\n",
       "<circle clip-path=\"url(#clip2303)\" style=\"fill:#0000ff; stroke:none; fill-opacity:1\" cx=\"407.502\" cy=\"816.749\" r=\"14\"/>\n",
       "<circle clip-path=\"url(#clip2303)\" style=\"fill:#adb2b7; stroke:none; fill-opacity:1\" cx=\"2261.54\" cy=\"1403.28\" r=\"18\"/>\n",
       "<circle clip-path=\"url(#clip2303)\" style=\"fill:#0000ff; stroke:none; fill-opacity:1\" cx=\"2261.54\" cy=\"1403.28\" r=\"14\"/>\n",
       "<circle clip-path=\"url(#clip2303)\" style=\"fill:#adb2b7; stroke:none; fill-opacity:1\" cx=\"681.048\" cy=\"1218.94\" r=\"18\"/>\n",
       "<circle clip-path=\"url(#clip2303)\" style=\"fill:#0000ff; stroke:none; fill-opacity:1\" cx=\"681.048\" cy=\"1218.94\" r=\"14\"/>\n",
       "<circle clip-path=\"url(#clip2303)\" style=\"fill:#adb2b7; stroke:none; fill-opacity:1\" cx=\"316.32\" cy=\"464.831\" r=\"18\"/>\n",
       "<circle clip-path=\"url(#clip2303)\" style=\"fill:#0000ff; stroke:none; fill-opacity:1\" cx=\"316.32\" cy=\"464.831\" r=\"14\"/>\n",
       "<circle clip-path=\"url(#clip2303)\" style=\"fill:#adb2b7; stroke:none; fill-opacity:1\" cx=\"1699.25\" cy=\"280.493\" r=\"18\"/>\n",
       "<circle clip-path=\"url(#clip2303)\" style=\"fill:#0000ff; stroke:none; fill-opacity:1\" cx=\"1699.25\" cy=\"280.493\" r=\"14\"/>\n",
       "<circle clip-path=\"url(#clip2303)\" style=\"fill:#adb2b7; stroke:none; fill-opacity:1\" cx=\"863.412\" cy=\"984.33\" r=\"18\"/>\n",
       "<circle clip-path=\"url(#clip2303)\" style=\"fill:#0000ff; stroke:none; fill-opacity:1\" cx=\"863.412\" cy=\"984.33\" r=\"14\"/>\n",
       "<circle clip-path=\"url(#clip2303)\" style=\"fill:#adb2b7; stroke:none; fill-opacity:1\" cx=\"559.472\" cy=\"1135.15\" r=\"18\"/>\n",
       "<circle clip-path=\"url(#clip2303)\" style=\"fill:#0000ff; stroke:none; fill-opacity:1\" cx=\"559.472\" cy=\"1135.15\" r=\"14\"/>\n",
       "<circle clip-path=\"url(#clip2303)\" style=\"fill:#adb2b7; stroke:none; fill-opacity:1\" cx=\"468.29\" cy=\"314.009\" r=\"18\"/>\n",
       "<circle clip-path=\"url(#clip2303)\" style=\"fill:#0000ff; stroke:none; fill-opacity:1\" cx=\"468.29\" cy=\"314.009\" r=\"14\"/>\n",
       "<circle clip-path=\"url(#clip2303)\" style=\"fill:#adb2b7; stroke:none; fill-opacity:1\" cx=\"1927.2\" cy=\"1101.64\" r=\"18\"/>\n",
       "<circle clip-path=\"url(#clip2303)\" style=\"fill:#0000ff; stroke:none; fill-opacity:1\" cx=\"1927.2\" cy=\"1101.64\" r=\"14\"/>\n",
       "<circle clip-path=\"url(#clip2303)\" style=\"fill:#adb2b7; stroke:none; fill-opacity:1\" cx=\"1076.17\" cy=\"213.461\" r=\"18\"/>\n",
       "<circle clip-path=\"url(#clip2303)\" style=\"fill:#ff0000; stroke:none; fill-opacity:1\" cx=\"1076.17\" cy=\"213.461\" r=\"14\"/>\n",
       "<circle clip-path=\"url(#clip2303)\" style=\"fill:#adb2b7; stroke:none; fill-opacity:1\" cx=\"1000.18\" cy=\"163.187\" r=\"18\"/>\n",
       "<circle clip-path=\"url(#clip2303)\" style=\"fill:#ff0000; stroke:none; fill-opacity:1\" cx=\"1000.18\" cy=\"163.187\" r=\"14\"/>\n",
       "<circle clip-path=\"url(#clip2303)\" style=\"fill:#adb2b7; stroke:none; fill-opacity:1\" cx=\"772.23\" cy=\"196.703\" r=\"18\"/>\n",
       "<circle clip-path=\"url(#clip2303)\" style=\"fill:#ff0000; stroke:none; fill-opacity:1\" cx=\"772.23\" cy=\"196.703\" r=\"14\"/>\n",
       "<circle clip-path=\"url(#clip2303)\" style=\"fill:#adb2b7; stroke:none; fill-opacity:1\" cx=\"1015.38\" cy=\"364.283\" r=\"18\"/>\n",
       "<circle clip-path=\"url(#clip2303)\" style=\"fill:#ff0000; stroke:none; fill-opacity:1\" cx=\"1015.38\" cy=\"364.283\" r=\"14\"/>\n",
       "<circle clip-path=\"url(#clip2303)\" style=\"fill:#adb2b7; stroke:none; fill-opacity:1\" cx=\"787.427\" cy=\"481.589\" r=\"18\"/>\n",
       "<circle clip-path=\"url(#clip2303)\" style=\"fill:#ff0000; stroke:none; fill-opacity:1\" cx=\"787.427\" cy=\"481.589\" r=\"14\"/>\n",
       "<circle clip-path=\"url(#clip2303)\" style=\"fill:#adb2b7; stroke:none; fill-opacity:1\" cx=\"787.427\" cy=\"179.945\" r=\"18\"/>\n",
       "<circle clip-path=\"url(#clip2303)\" style=\"fill:#ff0000; stroke:none; fill-opacity:1\" cx=\"787.427\" cy=\"179.945\" r=\"14\"/>\n",
       "<circle clip-path=\"url(#clip2303)\" style=\"fill:#adb2b7; stroke:none; fill-opacity:1\" cx=\"924.2\" cy=\"649.169\" r=\"18\"/>\n",
       "<circle clip-path=\"url(#clip2303)\" style=\"fill:#ff0000; stroke:none; fill-opacity:1\" cx=\"924.2\" cy=\"649.169\" r=\"14\"/>\n",
       "<circle clip-path=\"url(#clip2303)\" style=\"fill:#adb2b7; stroke:none; fill-opacity:1\" cx=\"878.609\" cy=\"381.041\" r=\"18\"/>\n",
       "<circle clip-path=\"url(#clip2303)\" style=\"fill:#ff0000; stroke:none; fill-opacity:1\" cx=\"878.609\" cy=\"381.041\" r=\"14\"/>\n",
       "<circle clip-path=\"url(#clip2303)\" style=\"fill:#adb2b7; stroke:none; fill-opacity:1\" cx=\"969.791\" cy=\"230.219\" r=\"18\"/>\n",
       "<circle clip-path=\"url(#clip2303)\" style=\"fill:#ff0000; stroke:none; fill-opacity:1\" cx=\"969.791\" cy=\"230.219\" r=\"14\"/>\n",
       "<circle clip-path=\"url(#clip2303)\" style=\"fill:#adb2b7; stroke:none; fill-opacity:1\" cx=\"878.609\" cy=\"649.169\" r=\"18\"/>\n",
       "<circle clip-path=\"url(#clip2303)\" style=\"fill:#ff0000; stroke:none; fill-opacity:1\" cx=\"878.609\" cy=\"649.169\" r=\"14\"/>\n",
       "<circle clip-path=\"url(#clip2303)\" style=\"fill:#adb2b7; stroke:none; fill-opacity:1\" cx=\"893.806\" cy=\"314.009\" r=\"18\"/>\n",
       "<circle clip-path=\"url(#clip2303)\" style=\"fill:#ff0000; stroke:none; fill-opacity:1\" cx=\"893.806\" cy=\"314.009\" r=\"14\"/>\n",
       "<circle clip-path=\"url(#clip2303)\" style=\"fill:#adb2b7; stroke:none; fill-opacity:1\" cx=\"1091.37\" cy=\"314.009\" r=\"18\"/>\n",
       "<circle clip-path=\"url(#clip2303)\" style=\"fill:#ff0000; stroke:none; fill-opacity:1\" cx=\"1091.37\" cy=\"314.009\" r=\"14\"/>\n",
       "<circle clip-path=\"url(#clip2303)\" style=\"fill:#adb2b7; stroke:none; fill-opacity:1\" cx=\"984.988\" cy=\"582.137\" r=\"18\"/>\n",
       "<circle clip-path=\"url(#clip2303)\" style=\"fill:#ff0000; stroke:none; fill-opacity:1\" cx=\"984.988\" cy=\"582.137\" r=\"14\"/>\n",
       "<circle clip-path=\"url(#clip2303)\" style=\"fill:#adb2b7; stroke:none; fill-opacity:1\" cx=\"726.639\" cy=\"330.767\" r=\"18\"/>\n",
       "<circle clip-path=\"url(#clip2303)\" style=\"fill:#ff0000; stroke:none; fill-opacity:1\" cx=\"726.639\" cy=\"330.767\" r=\"14\"/>\n",
       "<circle clip-path=\"url(#clip2303)\" style=\"fill:#adb2b7; stroke:none; fill-opacity:1\" cx=\"711.442\" cy=\"246.977\" r=\"18\"/>\n",
       "<circle clip-path=\"url(#clip2303)\" style=\"fill:#ff0000; stroke:none; fill-opacity:1\" cx=\"711.442\" cy=\"246.977\" r=\"14\"/>\n",
       "<circle clip-path=\"url(#clip2303)\" style=\"fill:#adb2b7; stroke:none; fill-opacity:1\" cx=\"939.397\" cy=\"464.831\" r=\"18\"/>\n",
       "<circle clip-path=\"url(#clip2303)\" style=\"fill:#ff0000; stroke:none; fill-opacity:1\" cx=\"939.397\" cy=\"464.831\" r=\"14\"/>\n",
       "<circle clip-path=\"url(#clip2303)\" style=\"fill:#adb2b7; stroke:none; fill-opacity:1\" cx=\"1000.18\" cy=\"464.831\" r=\"18\"/>\n",
       "<circle clip-path=\"url(#clip2303)\" style=\"fill:#ff0000; stroke:none; fill-opacity:1\" cx=\"1000.18\" cy=\"464.831\" r=\"14\"/>\n",
       "<circle clip-path=\"url(#clip2303)\" style=\"fill:#adb2b7; stroke:none; fill-opacity:1\" cx=\"893.806\" cy=\"280.493\" r=\"18\"/>\n",
       "<circle clip-path=\"url(#clip2303)\" style=\"fill:#ff0000; stroke:none; fill-opacity:1\" cx=\"893.806\" cy=\"280.493\" r=\"14\"/>\n",
       "<circle clip-path=\"url(#clip2303)\" style=\"fill:#adb2b7; stroke:none; fill-opacity:1\" cx=\"1030.58\" cy=\"598.895\" r=\"18\"/>\n",
       "<circle clip-path=\"url(#clip2303)\" style=\"fill:#ff0000; stroke:none; fill-opacity:1\" cx=\"1030.58\" cy=\"598.895\" r=\"14\"/>\n",
       "<circle clip-path=\"url(#clip2303)\" style=\"fill:#adb2b7; stroke:none; fill-opacity:1\" cx=\"741.836\" cy=\"196.703\" r=\"18\"/>\n",
       "<circle clip-path=\"url(#clip2303)\" style=\"fill:#ff0000; stroke:none; fill-opacity:1\" cx=\"741.836\" cy=\"196.703\" r=\"14\"/>\n",
       "</svg>\n"
      ]
     },
     "execution_count": 10,
     "metadata": {},
     "output_type": "execute_result"
    }
   ],
   "source": [
    "scatter(cluster1, legend =  false, color =  \" blue\", xaxis= \"x\", yaxis = \"y\", title = \" Random Data\")\n",
    "scatter!(cluster2, color =  \" red\")\n"
   ]
  },
  {
   "cell_type": "code",
   "execution_count": 13,
   "metadata": {},
   "outputs": [],
   "source": [
    "X = [x for x in cluster1]\n",
    "for x in cluster2\n",
    "    push!(X,x)\n",
    "end"
   ]
  },
  {
   "cell_type": "code",
   "execution_count": 22,
   "metadata": {},
   "outputs": [],
   "source": [
    "#function k_mean_clustering(x,k)\n",
    "centers = [(rand(0:70), rand(0:80)) for _ =1:3]\n",
    "distances = []\n",
    "for p in x\n",
    "    temp_distances = [(j, distance(p, centers[j])) for j = 1:length(centers)]\n",
    "    sort!(temp_distances, by = x -> x[2])\n",
    "    push!(distances, (p,temp_distances[1][1], temp_distances[1][2]))\n",
    "end"
   ]
  },
  {
   "cell_type": "code",
   "execution_count": 29,
   "metadata": {},
   "outputs": [
    {
     "ename": "LoadError",
     "evalue": "syntax: unexpected \"]\" in argument list",
     "output_type": "error",
     "traceback": [
      "syntax: unexpected \"]\" in argument list",
      ""
     ]
    }
   ],
   "source": [
    "function k_mean_assignment(x, centers, k)\n",
    "    centers = [(rand(0.0:70.0), rand(0.0:80.0)) for _ =1:k]\n",
    "    distances = []\n",
    "    for p in x\n",
    "        temp_distances = [(j, distance(p, centers[j])) for j = 1:length(centers)]\n",
    "        sort!(temp_distances, by = x -> x[2])\n",
    "        push!(distances, (p,temp_distances[1][1], temp_distances[1][2]))\n",
    "    end\n",
    "    new_centers + copy(centers)\n",
    "    \n",
    "    for j = 1:k\n",
    "        new_centers[j] = mean([x[1][1] for x in distances if x[2]==j]), mean([x[1][2] for x in distances if x2]==j]))\n",
    "    end\n",
    "    \n",
    "    return new_centers\n",
    "end\n",
    "                                    \n",
    "function k_mean_clustering (X,k)\n",
    "    centers = [(rand(0.0:70.0), rand(0.0:80.0)) for _ =1:k]\n",
    "    new_centers = k_mean_assignment(X),centers,k)\n",
    "    while max([distance(centers[i],new_centers[i]) for i = 1:k]> ϵ)\n",
    "    centers, new_centers = k_means_assignment(X, new_centers,k)\n",
    "    end\n",
    "    return new_centers\n",
    "end"
   ]
  },
  {
   "cell_type": "code",
   "execution_count": null,
   "metadata": {},
   "outputs": [],
   "source": [
    "centers =k_mean_clustering(X,2,0.05)"
   ]
  },
  {
   "cell_type": "code",
   "execution_count": null,
   "metadata": {},
   "outputs": [],
   "source": [
    "n,m = mean([x[1][1] for x in distances if x[2]==1), sum (x[1][1] for x in distances if x[2]==1)"
   ]
  },
  {
   "cell_type": "code",
   "execution_count": 24,
   "metadata": {},
   "outputs": [
    {
     "data": {
      "text/plain": [
       "3-element Array{Tuple{Int64,Int64},1}:\n",
       " (45, 36)\n",
       " (36, 23)\n",
       " (65, 7) "
      ]
     },
     "execution_count": 24,
     "metadata": {},
     "output_type": "execute_result"
    }
   ],
   "source": [
    "centers"
   ]
  },
  {
   "cell_type": "code",
   "execution_count": 27,
   "metadata": {},
   "outputs": [
    {
     "ename": "LoadError",
     "evalue": "syntax: missing comma or ) in argument list",
     "output_type": "error",
     "traceback": [
      "syntax: missing comma or ) in argument list",
      ""
     ]
    }
   ],
   "source": [
    "println(\"The distance from (6,14) to  u_1 is : \", The distance ((42,17), (6,14)),\"\\n \" )\n",
    "println(\"The distance from (6,14) to  u_2 is : \", The distance ((67,50), (6,14)),\"\\n \" )"
   ]
  },
  {
   "cell_type": "code",
   "execution_count": null,
   "metadata": {},
   "outputs": [],
   "source": [
    "scatter(legend = false)\n",
    "for p in x\n",
    "    temp_distances = [(j, distance(p, centers[j])) for j = 1:k]\n",
    "    sort!(tem_distances, by=x -> x[2])\n",
    "    plot!([p, centers[temp_distances[1][1]]], color = temp_distances[1][1]==1? \"blue\" : \"red\")\n",
    "end\n",
    "plot!()\n",
    "    "
   ]
  }
 ],
 "metadata": {
  "kernelspec": {
   "display_name": "Julia 1.0.3 (4 threads)",
   "language": "julia",
   "name": "julia-1.0k"
  },
  "language_info": {
   "file_extension": ".jl",
   "mimetype": "application/julia",
   "name": "julia",
   "version": "1.0.3"
  }
 },
 "nbformat": 4,
 "nbformat_minor": 2
}
