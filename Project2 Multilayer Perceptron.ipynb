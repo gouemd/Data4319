{
 "cells": [
  {
   "cell_type": "markdown",
   "metadata": {},
   "source": [
    "## Multilayer perceptron Algorytm"
   ]
  },
  {
   "cell_type": "markdown",
   "metadata": {},
   "source": [
    "### Reading iris data"
   ]
  },
  {
   "cell_type": "code",
   "execution_count": 2,
   "metadata": {},
   "outputs": [
    {
     "name": "stdout",
     "output_type": "stream",
     "text": [
      "150×6 DataFrames.DataFrame\n",
      "│ Row │ Sepal Length │ Sepal Width │ Petal Length │ Petal Width │ Species         │ Class  │\n",
      "│     │ \u001b[90mFloat64⍰\u001b[39m     │ \u001b[90mFloat64⍰\u001b[39m    │ \u001b[90mFloat64⍰\u001b[39m     │ \u001b[90mFloat64⍰\u001b[39m    │ \u001b[90mString⍰\u001b[39m         │ \u001b[90mInt64⍰\u001b[39m │\n",
      "├─────┼──────────────┼─────────────┼──────────────┼─────────────┼─────────────────┼────────┤\n",
      "│ 1   │ 5.1          │ 3.5         │ 1.4          │ 0.2         │ Iris-setosa     │ 0      │\n",
      "│ 2   │ 4.9          │ 3.0         │ 1.4          │ 0.2         │ Iris-setosa     │ 0      │\n",
      "│ 3   │ 4.7          │ 3.2         │ 1.3          │ 0.2         │ Iris-setosa     │ 0      │\n",
      "│ 4   │ 4.6          │ 3.1         │ 1.5          │ 0.2         │ Iris-setosa     │ 0      │\n",
      "│ 5   │ 5.0          │ 3.6         │ 1.4          │ 0.2         │ Iris-setosa     │ 0      │\n",
      "│ 6   │ 5.4          │ 3.9         │ 1.7          │ 0.4         │ Iris-setosa     │ 0      │\n",
      "│ 7   │ 4.6          │ 3.4         │ 1.4          │ 0.3         │ Iris-setosa     │ 0      │\n",
      "│ 8   │ 5.0          │ 3.4         │ 1.5          │ 0.2         │ Iris-setosa     │ 0      │\n",
      "│ 9   │ 4.4          │ 2.9         │ 1.4          │ 0.2         │ Iris-setosa     │ 0      │\n",
      "│ 10  │ 4.9          │ 3.1         │ 1.5          │ 0.1         │ Iris-setosa     │ 0      │\n",
      "│ 11  │ 5.4          │ 3.7         │ 1.5          │ 0.2         │ Iris-setosa     │ 0      │\n",
      "│ 12  │ 4.8          │ 3.4         │ 1.6          │ 0.2         │ Iris-setosa     │ 0      │\n",
      "│ 13  │ 4.8          │ 3.0         │ 1.4          │ 0.1         │ Iris-setosa     │ 0      │\n",
      "│ 14  │ 4.3          │ 3.0         │ 1.1          │ 0.1         │ Iris-setosa     │ 0      │\n",
      "│ 15  │ 5.8          │ 4.0         │ 1.2          │ 0.2         │ Iris-setosa     │ 0      │\n",
      "│ 16  │ 5.7          │ 4.4         │ 1.5          │ 0.4         │ Iris-setosa     │ 0      │\n",
      "│ 17  │ 5.4          │ 3.9         │ 1.3          │ 0.4         │ Iris-setosa     │ 0      │\n",
      "│ 18  │ 5.1          │ 3.5         │ 1.4          │ 0.3         │ Iris-setosa     │ 0      │\n",
      "│ 19  │ 5.7          │ 3.8         │ 1.7          │ 0.3         │ Iris-setosa     │ 0      │\n",
      "│ 20  │ 5.1          │ 3.8         │ 1.5          │ 0.3         │ Iris-setosa     │ 0      │\n",
      "│ 21  │ 5.4          │ 3.4         │ 1.7          │ 0.2         │ Iris-setosa     │ 0      │\n",
      "│ 22  │ 5.1          │ 3.7         │ 1.5          │ 0.4         │ Iris-setosa     │ 0      │\n",
      "│ 23  │ 4.6          │ 3.6         │ 1.0          │ 0.2         │ Iris-setosa     │ 0      │\n",
      "│ 24  │ 5.1          │ 3.3         │ 1.7          │ 0.5         │ Iris-setosa     │ 0      │\n",
      "│ 25  │ 4.8          │ 3.4         │ 1.9          │ 0.2         │ Iris-setosa     │ 0      │\n",
      "│ 26  │ 5.0          │ 3.0         │ 1.6          │ 0.2         │ Iris-setosa     │ 0      │\n",
      "│ 27  │ 5.0          │ 3.4         │ 1.6          │ 0.4         │ Iris-setosa     │ 0      │\n",
      "│ 28  │ 5.2          │ 3.5         │ 1.5          │ 0.2         │ Iris-setosa     │ 0      │\n",
      "│ 29  │ 5.2          │ 3.4         │ 1.4          │ 0.2         │ Iris-setosa     │ 0      │\n",
      "│ 30  │ 4.7          │ 3.2         │ 1.6          │ 0.2         │ Iris-setosa     │ 0      │\n",
      "│ 31  │ 4.8          │ 3.1         │ 1.6          │ 0.2         │ Iris-setosa     │ 0      │\n",
      "│ 32  │ 5.4          │ 3.4         │ 1.5          │ 0.4         │ Iris-setosa     │ 0      │\n",
      "│ 33  │ 5.2          │ 4.1         │ 1.5          │ 0.1         │ Iris-setosa     │ 0      │\n",
      "│ 34  │ 5.5          │ 4.2         │ 1.4          │ 0.2         │ Iris-setosa     │ 0      │\n",
      "│ 35  │ 4.9          │ 3.1         │ 1.5          │ 0.1         │ Iris-setosa     │ 0      │\n",
      "│ 36  │ 5.0          │ 3.2         │ 1.2          │ 0.2         │ Iris-setosa     │ 0      │\n",
      "│ 37  │ 5.5          │ 3.5         │ 1.3          │ 0.2         │ Iris-setosa     │ 0      │\n",
      "│ 38  │ 4.9          │ 3.1         │ 1.5          │ 0.1         │ Iris-setosa     │ 0      │\n",
      "│ 39  │ 4.4          │ 3.0         │ 1.3          │ 0.2         │ Iris-setosa     │ 0      │\n",
      "│ 40  │ 5.1          │ 3.4         │ 1.5          │ 0.2         │ Iris-setosa     │ 0      │\n",
      "│ 41  │ 5.0          │ 3.5         │ 1.3          │ 0.3         │ Iris-setosa     │ 0      │\n",
      "│ 42  │ 4.5          │ 2.3         │ 1.3          │ 0.3         │ Iris-setosa     │ 0      │\n",
      "│ 43  │ 4.4          │ 3.2         │ 1.3          │ 0.2         │ Iris-setosa     │ 0      │\n",
      "│ 44  │ 5.0          │ 3.5         │ 1.6          │ 0.6         │ Iris-setosa     │ 0      │\n",
      "│ 45  │ 5.1          │ 3.8         │ 1.9          │ 0.4         │ Iris-setosa     │ 0      │\n",
      "│ 46  │ 4.8          │ 3.0         │ 1.4          │ 0.3         │ Iris-setosa     │ 0      │\n",
      "│ 47  │ 5.1          │ 3.8         │ 1.6          │ 0.2         │ Iris-setosa     │ 0      │\n",
      "│ 48  │ 4.6          │ 3.2         │ 1.4          │ 0.2         │ Iris-setosa     │ 0      │\n",
      "│ 49  │ 5.3          │ 3.7         │ 1.5          │ 0.2         │ Iris-setosa     │ 0      │\n",
      "│ 50  │ 5.0          │ 3.3         │ 1.4          │ 0.2         │ Iris-setosa     │ 0      │\n",
      "│ 51  │ 7.0          │ 3.2         │ 4.7          │ 1.4         │ Iris-versicolor │ 1      │\n",
      "│ 52  │ 6.4          │ 3.2         │ 4.5          │ 1.5         │ Iris-versicolor │ 1      │\n",
      "│ 53  │ 6.9          │ 3.1         │ 4.9          │ 1.5         │ Iris-versicolor │ 1      │\n",
      "│ 54  │ 5.5          │ 2.3         │ 4.0          │ 1.3         │ Iris-versicolor │ 1      │\n",
      "│ 55  │ 6.5          │ 2.8         │ 4.6          │ 1.5         │ Iris-versicolor │ 1      │\n",
      "│ 56  │ 5.7          │ 2.8         │ 4.5          │ 1.3         │ Iris-versicolor │ 1      │\n",
      "│ 57  │ 6.3          │ 3.3         │ 4.7          │ 1.6         │ Iris-versicolor │ 1      │\n",
      "│ 58  │ 4.9          │ 2.4         │ 3.3          │ 1.0         │ Iris-versicolor │ 1      │\n",
      "│ 59  │ 6.6          │ 2.9         │ 4.6          │ 1.3         │ Iris-versicolor │ 1      │\n",
      "│ 60  │ 5.2          │ 2.7         │ 3.9          │ 1.4         │ Iris-versicolor │ 1      │\n",
      "│ 61  │ 5.0          │ 2.0         │ 3.5          │ 1.0         │ Iris-versicolor │ 1      │\n",
      "│ 62  │ 5.9          │ 3.0         │ 4.2          │ 1.5         │ Iris-versicolor │ 1      │\n",
      "│ 63  │ 6.0          │ 2.2         │ 4.0          │ 1.0         │ Iris-versicolor │ 1      │\n",
      "│ 64  │ 6.1          │ 2.9         │ 4.7          │ 1.4         │ Iris-versicolor │ 1      │\n",
      "│ 65  │ 5.6          │ 2.9         │ 3.6          │ 1.3         │ Iris-versicolor │ 1      │\n",
      "│ 66  │ 6.7          │ 3.1         │ 4.4          │ 1.4         │ Iris-versicolor │ 1      │\n",
      "│ 67  │ 5.6          │ 3.0         │ 4.5          │ 1.5         │ Iris-versicolor │ 1      │\n",
      "│ 68  │ 5.8          │ 2.7         │ 4.1          │ 1.0         │ Iris-versicolor │ 1      │\n",
      "│ 69  │ 6.2          │ 2.2         │ 4.5          │ 1.5         │ Iris-versicolor │ 1      │\n",
      "│ 70  │ 5.6          │ 2.5         │ 3.9          │ 1.1         │ Iris-versicolor │ 1      │\n",
      "│ 71  │ 5.9          │ 3.2         │ 4.8          │ 1.8         │ Iris-versicolor │ 1      │\n",
      "│ 72  │ 6.1          │ 2.8         │ 4.0          │ 1.3         │ Iris-versicolor │ 1      │\n",
      "│ 73  │ 6.3          │ 2.5         │ 4.9          │ 1.5         │ Iris-versicolor │ 1      │\n",
      "│ 74  │ 6.1          │ 2.8         │ 4.7          │ 1.2         │ Iris-versicolor │ 1      │\n",
      "│ 75  │ 6.4          │ 2.9         │ 4.3          │ 1.3         │ Iris-versicolor │ 1      │\n",
      "│ 76  │ 6.6          │ 3.0         │ 4.4          │ 1.4         │ Iris-versicolor │ 1      │\n",
      "│ 77  │ 6.8          │ 2.8         │ 4.8          │ 1.4         │ Iris-versicolor │ 1      │\n",
      "│ 78  │ 6.7          │ 3.0         │ 5.0          │ 1.7         │ Iris-versicolor │ 1      │\n",
      "│ 79  │ 6.0          │ 2.9         │ 4.5          │ 1.5         │ Iris-versicolor │ 1      │\n",
      "│ 80  │ 5.7          │ 2.6         │ 3.5          │ 1.0         │ Iris-versicolor │ 1      │\n",
      "│ 81  │ 5.5          │ 2.4         │ 3.8          │ 1.1         │ Iris-versicolor │ 1      │\n",
      "│ 82  │ 5.5          │ 2.4         │ 3.7          │ 1.0         │ Iris-versicolor │ 1      │\n",
      "│ 83  │ 5.8          │ 2.7         │ 3.9          │ 1.2         │ Iris-versicolor │ 1      │\n",
      "│ 84  │ 6.0          │ 2.7         │ 5.1          │ 1.6         │ Iris-versicolor │ 1      │\n",
      "│ 85  │ 5.4          │ 3.0         │ 4.5          │ 1.5         │ Iris-versicolor │ 1      │\n",
      "│ 86  │ 6.0          │ 3.4         │ 4.5          │ 1.6         │ Iris-versicolor │ 1      │\n",
      "│ 87  │ 6.7          │ 3.1         │ 4.7          │ 1.5         │ Iris-versicolor │ 1      │\n",
      "│ 88  │ 6.3          │ 2.3         │ 4.4          │ 1.3         │ Iris-versicolor │ 1      │\n",
      "│ 89  │ 5.6          │ 3.0         │ 4.1          │ 1.3         │ Iris-versicolor │ 1      │\n",
      "│ 90  │ 5.5          │ 2.5         │ 4.0          │ 1.3         │ Iris-versicolor │ 1      │\n",
      "│ 91  │ 5.5          │ 2.6         │ 4.4          │ 1.2         │ Iris-versicolor │ 1      │\n",
      "│ 92  │ 6.1          │ 3.0         │ 4.6          │ 1.4         │ Iris-versicolor │ 1      │\n",
      "│ 93  │ 5.8          │ 2.6         │ 4.0          │ 1.2         │ Iris-versicolor │ 1      │\n",
      "│ 94  │ 5.0          │ 2.3         │ 3.3          │ 1.0         │ Iris-versicolor │ 1      │\n",
      "│ 95  │ 5.6          │ 2.7         │ 4.2          │ 1.3         │ Iris-versicolor │ 1      │\n",
      "│ 96  │ 5.7          │ 3.0         │ 4.2          │ 1.2         │ Iris-versicolor │ 1      │\n",
      "│ 97  │ 5.7          │ 2.9         │ 4.2          │ 1.3         │ Iris-versicolor │ 1      │\n",
      "│ 98  │ 6.2          │ 2.9         │ 4.3          │ 1.3         │ Iris-versicolor │ 1      │\n",
      "│ 99  │ 5.1          │ 2.5         │ 3.0          │ 1.1         │ Iris-versicolor │ 1      │\n",
      "│ 100 │ 5.7          │ 2.8         │ 4.1          │ 1.3         │ Iris-versicolor │ 1      │\n",
      "│ 101 │ 6.3          │ 3.3         │ 6.0          │ 2.5         │ Iris-virginica  │ 2      │\n",
      "│ 102 │ 5.8          │ 2.7         │ 5.1          │ 1.9         │ Iris-virginica  │ 2      │\n",
      "│ 103 │ 7.1          │ 3.0         │ 5.9          │ 2.1         │ Iris-virginica  │ 2      │\n",
      "│ 104 │ 6.3          │ 2.9         │ 5.6          │ 1.8         │ Iris-virginica  │ 2      │\n",
      "│ 105 │ 6.5          │ 3.0         │ 5.8          │ 2.2         │ Iris-virginica  │ 2      │\n",
      "│ 106 │ 7.6          │ 3.0         │ 6.6          │ 2.1         │ Iris-virginica  │ 2      │\n",
      "│ 107 │ 4.9          │ 2.5         │ 4.5          │ 1.7         │ Iris-virginica  │ 2      │\n",
      "│ 108 │ 7.3          │ 2.9         │ 6.3          │ 1.8         │ Iris-virginica  │ 2      │\n",
      "│ 109 │ 6.7          │ 2.5         │ 5.8          │ 1.8         │ Iris-virginica  │ 2      │\n",
      "│ 110 │ 7.2          │ 3.6         │ 6.1          │ 2.5         │ Iris-virginica  │ 2      │\n",
      "│ 111 │ 6.5          │ 3.2         │ 5.1          │ 2.0         │ Iris-virginica  │ 2      │\n",
      "│ 112 │ 6.4          │ 2.7         │ 5.3          │ 1.9         │ Iris-virginica  │ 2      │\n",
      "│ 113 │ 6.8          │ 3.0         │ 5.5          │ 2.1         │ Iris-virginica  │ 2      │\n",
      "│ 114 │ 5.7          │ 2.5         │ 5.0          │ 2.0         │ Iris-virginica  │ 2      │\n",
      "│ 115 │ 5.8          │ 2.8         │ 5.1          │ 2.4         │ Iris-virginica  │ 2      │\n",
      "│ 116 │ 6.4          │ 3.2         │ 5.3          │ 2.3         │ Iris-virginica  │ 2      │\n",
      "│ 117 │ 6.5          │ 3.0         │ 5.5          │ 1.8         │ Iris-virginica  │ 2      │\n",
      "│ 118 │ 7.7          │ 3.8         │ 6.7          │ 2.2         │ Iris-virginica  │ 2      │\n",
      "│ 119 │ 7.7          │ 2.6         │ 6.9          │ 2.3         │ Iris-virginica  │ 2      │\n",
      "│ 120 │ 6.0          │ 2.2         │ 5.0          │ 1.5         │ Iris-virginica  │ 2      │\n",
      "│ 121 │ 6.9          │ 3.2         │ 5.7          │ 2.3         │ Iris-virginica  │ 2      │\n",
      "│ 122 │ 5.6          │ 2.8         │ 4.9          │ 2.0         │ Iris-virginica  │ 2      │\n",
      "│ 123 │ 7.7          │ 2.8         │ 6.7          │ 2.0         │ Iris-virginica  │ 2      │\n",
      "│ 124 │ 6.3          │ 2.7         │ 4.9          │ 1.8         │ Iris-virginica  │ 2      │\n",
      "│ 125 │ 6.7          │ 3.3         │ 5.7          │ 2.1         │ Iris-virginica  │ 2      │\n",
      "│ 126 │ 7.2          │ 3.2         │ 6.0          │ 1.8         │ Iris-virginica  │ 2      │\n",
      "│ 127 │ 6.2          │ 2.8         │ 4.8          │ 1.8         │ Iris-virginica  │ 2      │\n",
      "│ 128 │ 6.1          │ 3.0         │ 4.9          │ 1.8         │ Iris-virginica  │ 2      │\n",
      "│ 129 │ 6.4          │ 2.8         │ 5.6          │ 2.1         │ Iris-virginica  │ 2      │\n",
      "│ 130 │ 7.2          │ 3.0         │ 5.8          │ 1.6         │ Iris-virginica  │ 2      │\n",
      "│ 131 │ 7.4          │ 2.8         │ 6.1          │ 1.9         │ Iris-virginica  │ 2      │\n",
      "│ 132 │ 7.9          │ 3.8         │ 6.4          │ 2.0         │ Iris-virginica  │ 2      │\n",
      "│ 133 │ 6.4          │ 2.8         │ 5.6          │ 2.2         │ Iris-virginica  │ 2      │\n",
      "│ 134 │ 6.3          │ 2.8         │ 5.1          │ 1.5         │ Iris-virginica  │ 2      │\n",
      "│ 135 │ 6.1          │ 2.6         │ 5.6          │ 1.4         │ Iris-virginica  │ 2      │\n",
      "│ 136 │ 7.7          │ 3.0         │ 6.1          │ 2.3         │ Iris-virginica  │ 2      │\n",
      "│ 137 │ 6.3          │ 3.4         │ 5.6          │ 2.4         │ Iris-virginica  │ 2      │\n",
      "│ 138 │ 6.4          │ 3.1         │ 5.5          │ 1.8         │ Iris-virginica  │ 2      │\n",
      "│ 139 │ 6.0          │ 3.0         │ 4.8          │ 1.8         │ Iris-virginica  │ 2      │\n",
      "│ 140 │ 6.9          │ 3.1         │ 5.4          │ 2.1         │ Iris-virginica  │ 2      │\n",
      "│ 141 │ 6.7          │ 3.1         │ 5.6          │ 2.4         │ Iris-virginica  │ 2      │\n",
      "│ 142 │ 6.9          │ 3.1         │ 5.1          │ 2.3         │ Iris-virginica  │ 2      │\n",
      "│ 143 │ 5.8          │ 2.7         │ 5.1          │ 1.9         │ Iris-virginica  │ 2      │\n",
      "│ 144 │ 6.8          │ 3.2         │ 5.9          │ 2.3         │ Iris-virginica  │ 2      │\n",
      "│ 145 │ 6.7          │ 3.3         │ 5.7          │ 2.5         │ Iris-virginica  │ 2      │\n",
      "│ 146 │ 6.7          │ 3.0         │ 5.2          │ 2.3         │ Iris-virginica  │ 2      │\n",
      "│ 147 │ 6.3          │ 2.5         │ 5.0          │ 1.9         │ Iris-virginica  │ 2      │\n",
      "│ 148 │ 6.5          │ 3.0         │ 5.2          │ 2.0         │ Iris-virginica  │ 2      │\n",
      "│ 149 │ 6.2          │ 3.4         │ 5.4          │ 2.3         │ Iris-virginica  │ 2      │\n",
      "│ 150 │ 5.9          │ 3.0         │ 5.1          │ 1.8         │ Iris-virginica  │ 2      │\n"
     ]
    }
   ],
   "source": [
    "using CSV\n",
    "iris = CSV.read(\"iris_data.csv\")\n",
    "println(iris)"
   ]
  },
  {
   "cell_type": "code",
   "execution_count": 3,
   "metadata": {},
   "outputs": [],
   "source": [
    "X = zeros(4, 150)\n",
    "Y = zeros(3, 150)\n",
    "\n",
    "for i = 1:150\n",
    "    for j = 1:4\n",
    "        X[j, i] = iris[i, j]\n",
    "        if iris[i , 5] == \"setosa\"\n",
    "            Y[1, i] = 1.0\n",
    "        elseif iris[i, 5] == \"versicolor\"\n",
    "            Y[2, i] = 1.0\n",
    "        else\n",
    "            Y[3, i] = 1.0\n",
    "        end\n",
    "    end\n",
    "end"
   ]
  },
  {
   "cell_type": "code",
   "execution_count": 4,
   "metadata": {},
   "outputs": [
    {
     "data": {
      "text/html": [
       "<p>DataFrameRow</p><table class=\"data-frame\"><thead><tr><th></th><th>Sepal Length</th><th>Sepal Width</th><th>Petal Length</th><th>Petal Width</th><th>Species</th><th>Class</th></tr><tr><th></th><th>Float64⍰</th><th>Float64⍰</th><th>Float64⍰</th><th>Float64⍰</th><th>String⍰</th><th>Int64⍰</th></tr></thead><tbody><p>1 rows × 6 columns</p><tr><th>90</th><td>5.5</td><td>2.5</td><td>4.0</td><td>1.3</td><td>Iris-versicolor</td><td>1</td></tr></tbody></table>"
      ],
      "text/latex": [
       "\\begin{tabular}{r|cccccc}\n",
       "\t& Sepal Length & Sepal Width & Petal Length & Petal Width & Species & Class\\\\\n",
       "\t\\hline\n",
       "\t& Float64⍰ & Float64⍰ & Float64⍰ & Float64⍰ & String⍰ & Int64⍰\\\\\n",
       "\t\\hline\n",
       "\t90 & 5.5 & 2.5 & 4.0 & 1.3 & Iris-versicolor & 1 \\\\\n",
       "\\end{tabular}\n"
      ],
      "text/plain": [
       "DataFrameRow. Omitted printing of 2 columns\n",
       "│ Row │ Sepal Length │ Sepal Width │ Petal Length │ Petal Width │\n",
       "│     │ \u001b[90mFloat64⍰\u001b[39m     │ \u001b[90mFloat64⍰\u001b[39m    │ \u001b[90mFloat64⍰\u001b[39m     │ \u001b[90mFloat64⍰\u001b[39m    │\n",
       "├─────┼──────────────┼─────────────┼──────────────┼─────────────┤\n",
       "│ 90  │ 5.5          │ 2.5         │ 4.0          │ 1.3         │"
      ]
     },
     "execution_count": 4,
     "metadata": {},
     "output_type": "execute_result"
    }
   ],
   "source": [
    "iris[90, : ]"
   ]
  },
  {
   "cell_type": "code",
   "execution_count": 5,
   "metadata": {},
   "outputs": [
    {
     "data": {
      "text/plain": [
       "4-element Array{Float64,1}:\n",
       " 5.5\n",
       " 2.5\n",
       " 4.0\n",
       " 1.3"
      ]
     },
     "execution_count": 5,
     "metadata": {},
     "output_type": "execute_result"
    }
   ],
   "source": [
    "X[:,90]"
   ]
  },
  {
   "cell_type": "code",
   "execution_count": 6,
   "metadata": {},
   "outputs": [
    {
     "data": {
      "text/plain": [
       "3-element Array{Float64,1}:\n",
       " 0.0\n",
       " 0.0\n",
       " 1.0"
      ]
     },
     "execution_count": 6,
     "metadata": {},
     "output_type": "execute_result"
    }
   ],
   "source": [
    "Y[:,90]"
   ]
  },
  {
   "cell_type": "markdown",
   "metadata": {},
   "source": [
    "### Signoid, softmax and Cross entropy functions"
   ]
  },
  {
   "cell_type": "code",
   "execution_count": 7,
   "metadata": {},
   "outputs": [],
   "source": [
    "# define signoid function\n",
    "σ(s) = 1/(1+exp(-s))\n",
    "dσ(s)= σ(s)*(1- σ(s))\n",
    "\n",
    "# define softmax function\n",
    "softmax(a,i)= exp(a[i])/(sum(exp(a[j]) for j = 1:length(a)))\n",
    "\n",
    "# define cross entropy loss function\n",
    "L(o,y)= -sum(y[i]*log(o[i]) for i= 1:length(y))\n",
    "    \n",
    "# define hadamard product\n",
    "hadamard(x,y )=[x[i]*y[i] for i = 1:length(x)];"
   ]
  },
  {
   "cell_type": "markdown",
   "metadata": {},
   "source": [
    "### Forward_propagation"
   ]
  },
  {
   "cell_type": "code",
   "execution_count": 8,
   "metadata": {},
   "outputs": [
    {
     "data": {
      "text/plain": [
       "forward_propagation (generic function with 1 method)"
      ]
     },
     "execution_count": 8,
     "metadata": {},
     "output_type": "execute_result"
    }
   ],
   "source": [
    "function forward_propagation(x,y,w,b)\n",
    "    a1=copy(x)\n",
    "    z2=w[1]*a1+b[1]\n",
    "    a2=σ-(z2)\n",
    "    \n",
    "    z3=w[2]*a2+b[2]\n",
    "    a3=σ-(z4)\n",
    "    \n",
    "    z4=w(3)*a2+b[2]\n",
    "    a4=σ-(z4)\n",
    "    \n",
    "    a=[a1,a2,a3,a4]\n",
    "    z=[z1,z2,z3,z4]\n",
    "    o=[softmax(a4,i) for i=1:length(a4)]\n",
    "    loss=L(o,y)\n",
    "    return a,z,o,loss\n",
    "end"
   ]
  },
  {
   "cell_type": "code",
   "execution_count": 9,
   "metadata": {},
   "outputs": [
    {
     "ename": "UndefVarError",
     "evalue": "UndefVarError: w not defined",
     "output_type": "error",
     "traceback": [
      "UndefVarError: w not defined",
      "",
      "Stacktrace:",
      " [1] top-level scope at In[9]:1"
     ]
    }
   ],
   "source": [
    "forward_propagation(X[:,1],Y[:,1],w,b)"
   ]
  },
  {
   "cell_type": "markdown",
   "metadata": {},
   "source": [
    "### backpropagation function"
   ]
  },
  {
   "cell_type": "code",
   "execution_count": 10,
   "metadata": {},
   "outputs": [
    {
     "ename": "LoadError",
     "evalue": "syntax: missing comma or ) in argument list",
     "output_type": "error",
     "traceback": [
      "syntax: missing comma or ) in argument list",
      ""
     ]
    }
   ],
   "source": [
    "function backpropagation(x,y,w,b)\n",
    "    a,z,o,loss= forward_propagation(x,y,w,b)\n",
    "    δ4= a[4]-y\n",
    "    δ3= hadamard(w[3]' * δ4, dσ.(z[3]))\n",
    "    δ2= hadamard(w[2]' * δ3, dσ.(z[2]))\n",
    "    δ= [[0.0],δ2, δ3, δ4]\n",
    "    return a, δ\n",
    "end\n",
    "    \n",
    "    \n",
    "function VL(x,y w,b)\n",
    "    a,δ= backpropagation(x,y,w,b)\n",
    "    db1=copy( δ[2])\n",
    "    db2=copy( δ[3])\n",
    "    db3=copy( δ[4])\n",
    "        \n",
    "    dw1=δ[2]*a[1]'\n",
    "    dw2=δ[3]*a[2]'\n",
    "    dw3=δ[4]*a[3]'\n",
    "    return [db1,db2,db3],[dw1,dw2,dw3]\n",
    "end\n",
    "        \n",
    "function gradient_descent(x,y,w,b,α)\n",
    "            db,dw =VL(x,y,w,b)\n",
    "            for i = 1:length(w)\n",
    "                w[i] -= σ*dw[i]\n",
    "                b[i] -= σ*b[i]\n",
    "            end\n",
    "end\n",
    "            "
   ]
  },
  {
   "cell_type": "markdown",
   "metadata": {},
   "source": [
    "### initialize weight matrices and bias"
   ]
  },
  {
   "cell_type": "code",
   "execution_count": 11,
   "metadata": {},
   "outputs": [
    {
     "ename": "LoadError",
     "evalue": "syntax: invalid iteration specification",
     "output_type": "error",
     "traceback": [
      "syntax: invalid iteration specification",
      ""
     ]
    }
   ],
   "source": [
    "# initialize weight matrix\n",
    "w1= rand(5,4)\n",
    "w2=rand(5,5)\n",
    "w3= rand(3,5)\n",
    "w=[w1,w2,w3]\n",
    "\n",
    "#initialize bias\n",
    "b1=-1*ones(5)\n",
    "b2=-1*ones(5)\n",
    "b3=-1*ones(3)\n",
    "b=[b1,b2,b3]\n",
    "for k _ =1:1000\n",
    "    stochastic_gradient_descent!(x,y,w,b, .34,30)\n",
    "end"
   ]
  },
  {
   "cell_type": "code",
   "execution_count": 12,
   "metadata": {},
   "outputs": [
    {
     "ename": "LoadError",
     "evalue": "syntax: invalid iteration specification",
     "output_type": "error",
     "traceback": [
      "syntax: invalid iteration specification",
      ""
     ]
    }
   ],
   "source": [
    "train_data= zeros(4,100)\n",
    "train_label= zeros(3,100)\n",
    "for _ i 1:100\n",
    "    j= rand(1:3)\n",
    "    if j==1\n",
    "        k=rand(1:50)\n",
    "        train_data[:,1]=copy(x[:,k]) \n",
    "        train_label[:,1]=copy(x[:,k])\n",
    "    elseif j==2\n",
    "        k=rand(50:100)\n",
    "        train_data[:,1]=copy(x[:,k]) \n",
    "        train_label[:,1]=copy(x[:,k])\n",
    "    else\n",
    "        k=rand(100:150)\n",
    "        train_data[:,1]=copy(x[:,k]) \n",
    "        train_label[:,1]=copy(x[:,k])\n",
    "    end\n",
    "end"
   ]
  },
  {
   "cell_type": "code",
   "execution_count": 13,
   "metadata": {},
   "outputs": [
    {
     "ename": "UndefVarError",
     "evalue": "UndefVarError: for_ not defined",
     "output_type": "error",
     "traceback": [
      "UndefVarError: for_ not defined",
      "",
      "Stacktrace:",
      " [1] top-level scope at In[13]:1"
     ]
    }
   ],
   "source": [
    "for_ in 1:1000000\n",
    "    j= rand(1:150)\n",
    "    gradient_descent!(x[:,j],y[:,j],w,b,0.67)\n",
    "end"
   ]
  },
  {
   "cell_type": "code",
   "execution_count": 14,
   "metadata": {},
   "outputs": [
    {
     "ename": "UndefVarError",
     "evalue": "UndefVarError: x not defined",
     "output_type": "error",
     "traceback": [
      "UndefVarError: x not defined",
      "",
      "Stacktrace:",
      " [1] top-level scope at In[14]:1"
     ]
    }
   ],
   "source": [
    "forward_propagation(x[:,110],y[:,110],w,b)[3:4]"
   ]
  },
  {
   "cell_type": "code",
   "execution_count": 15,
   "metadata": {},
   "outputs": [
    {
     "ename": "UndefVarError",
     "evalue": "UndefVarError: y not defined",
     "output_type": "error",
     "traceback": [
      "UndefVarError: y not defined",
      "",
      "Stacktrace:",
      " [1] top-level scope at In[15]:1"
     ]
    }
   ],
   "source": [
    "y[:,20]"
   ]
  },
  {
   "cell_type": "code",
   "execution_count": 16,
   "metadata": {},
   "outputs": [
    {
     "ename": "LoadError",
     "evalue": "syntax: missing separator in array expression",
     "output_type": "error",
     "traceback": [
      "syntax: missing separator in array expression",
      ""
     ]
    }
   ],
   "source": [
    "function mini_batcg_VL(train_data, train_label,w,b,m)\n",
    "    i=rand(1:100)\n",
    "    \n",
    "    a,δ= backpropagation(train_data[:,i,train_label[:,i], w,b)\n",
    "    db1= δ[2]\n",
    "    db2=δ[3]\n",
    "    db3= δ[4]\n",
    "        \n",
    "    dw1=δ[2]*a[1]'\n",
    "    dw2=δ[3]*a[2]'\n",
    "    dw3=δ[4]*a[3]'\n",
    "    \n",
    "    for _ in 1:m\n",
    "        j=rand(1:100)\n",
    "        a,δ= backpropagation(train_data[:,i,train_label[:,i], w,b)\n",
    "        db1+=copy( δ[2])\n",
    "        db2+=copy( δ[3])\n",
    "        db3+=copy( δ[4])\n",
    "        \n",
    "        dw1+=δ[2]*a[1]'\n",
    "        dw2+=δ[3]*a[2]'\n",
    "        dw3+=δ[4]*a[3]'"
   ]
  },
  {
   "cell_type": "code",
   "execution_count": 17,
   "metadata": {},
   "outputs": [
    {
     "data": {
      "text/plain": [
       "stochastic_gradient_descent! (generic function with 1 method)"
      ]
     },
     "execution_count": 17,
     "metadata": {},
     "output_type": "execute_result"
    }
   ],
   "source": [
    "function stochastic_gradient_descent!(train_data,train_label,w,b,α,m)\n",
    "    db,dw = mini_batch_VL(train_data,train_label,w,b,m)\n",
    "    for i=1:length(w)\n",
    "        w[i]-=α*dw[i]\n",
    "        b[i]-=α*b[i]\n",
    "    end\n",
    "end"
   ]
  },
  {
   "cell_type": "code",
   "execution_count": 18,
   "metadata": {},
   "outputs": [
    {
     "data": {
      "text/plain": [
       "3-element Array{Array{Float64,1},1}:\n",
       " [-1.0, -1.0, -1.0, -1.0, -1.0]\n",
       " [-1.0, -1.0, -1.0, -1.0, -1.0]\n",
       " [-1.0, -1.0, -1.0]            "
      ]
     },
     "execution_count": 18,
     "metadata": {},
     "output_type": "execute_result"
    }
   ],
   "source": [
    "# initialize weight \n",
    "w1= rand(5,4)\n",
    "w2=rand(5,5)\n",
    "w3= rand(3,5)\n",
    "w=[w1,w2,w3]\n",
    "\n",
    "#initialize bias\n",
    "b1=-1*ones(5)\n",
    "b2=-1*ones(5)\n",
    "b3=-1*ones(3)\n",
    "b=[b1,b2,b3]"
   ]
  },
  {
   "cell_type": "code",
   "execution_count": 19,
   "metadata": {},
   "outputs": [
    {
     "ename": "LoadError",
     "evalue": "syntax: extra token \"1\" after end of expression",
     "output_type": "error",
     "traceback": [
      "syntax: extra token \"1\" after end of expression",
      ""
     ]
    }
   ],
   "source": [
    "for_in 1:1000000\n",
    "    stochastic_gradient_descent!(train_data,train_label,w,b,.37,23)\n",
    "end"
   ]
  },
  {
   "cell_type": "code",
   "execution_count": 20,
   "metadata": {},
   "outputs": [
    {
     "ename": "UndefVarError",
     "evalue": "UndefVarError: x not defined",
     "output_type": "error",
     "traceback": [
      "UndefVarError: x not defined",
      "",
      "Stacktrace:",
      " [1] top-level scope at In[20]:1"
     ]
    }
   ],
   "source": [
    "forward_propagation(x[:,85],y[:,85],w,b)[3:4]"
   ]
  },
  {
   "cell_type": "code",
   "execution_count": 21,
   "metadata": {},
   "outputs": [
    {
     "data": {
      "text/plain": [
       "3-element Array{Array{Float64,2},1}:\n",
       " [0.643358 0.350038 0.0944178 0.556408; 0.976975 0.628813 0.153914 0.101899; … ; 0.0120382 0.292837 0.158768 0.381395; 0.927875 0.154272 0.409705 0.933252]    \n",
       " [0.848299 0.6742 … 0.382498 0.218427; 0.1437 0.514645 … 0.207006 0.642408; … ; 0.707575 0.61624 … 0.325069 0.714954; 0.385892 0.446553 … 0.275021 0.408143]   \n",
       " [0.234364 0.126573 … 0.909081 0.858151; 0.3612 0.543752 … 0.0390157 0.397141; … ; 0.102323 0.421436 … 0.298539 0.38447; 0.841721 0.922551 … 0.623045 0.740245]"
      ]
     },
     "execution_count": 21,
     "metadata": {},
     "output_type": "execute_result"
    }
   ],
   "source": [
    "mistw1=rand(10,785)\n",
    "mnistw2= rand(10,10)\n",
    "w3=rand(10,10)\n",
    "w=[w1,w2,w3]"
   ]
  },
  {
   "cell_type": "code",
   "execution_count": 22,
   "metadata": {},
   "outputs": [],
   "source": [
    "using MLDatasets"
   ]
  },
  {
   "cell_type": "code",
   "execution_count": 23,
   "metadata": {},
   "outputs": [
    {
     "data": {
      "text/plain": [
       "size (generic function with 110 methods)"
      ]
     },
     "execution_count": 23,
     "metadata": {},
     "output_type": "execute_result"
    }
   ],
   "source": [
    "size"
   ]
  },
  {
   "cell_type": "code",
   "execution_count": 24,
   "metadata": {},
   "outputs": [
    {
     "ename": "UndefVarError",
     "evalue": "UndefVarError: train_x not defined",
     "output_type": "error",
     "traceback": [
      "UndefVarError: train_x not defined",
      "",
      "Stacktrace:",
      " [1] top-level scope at In[24]:1"
     ]
    }
   ],
   "source": [
    "train_x"
   ]
  }
 ],
 "metadata": {
  "kernelspec": {
   "display_name": "Julia 1.0.3",
   "language": "julia",
   "name": "julia-1.0"
  },
  "language_info": {
   "file_extension": ".jl",
   "mimetype": "application/julia",
   "name": "julia",
   "version": "1.0.3"
  }
 },
 "nbformat": 4,
 "nbformat_minor": 2
}
