{
 "cells": [
  {
   "cell_type": "markdown",
   "metadata": {},
   "source": [
    "## Newtons Method for solving a non Linear Equation"
   ]
  },
  {
   "cell_type": "code",
   "execution_count": null,
   "metadata": {},
   "outputs": [],
   "source": [
    "using Plots\n",
    "theme(:dark)\n",
    "import LinearAlgebra"
   ]
  },
  {
   "cell_type": "code",
   "execution_count": 2,
   "metadata": {},
   "outputs": [
    {
     "data": {
      "text/plain": [
       "newtons_method (generic function with 1 method)"
      ]
     },
     "execution_count": 2,
     "metadata": {},
     "output_type": "execute_result"
    }
   ],
   "source": [
    " function newtons_method(f, df, x1; kmax = 20, tol = 1e-6) \n",
    "    x = x1\n",
    "    fnorms = zeros(1,0) \n",
    "    for k = 1:kmax \n",
    "        fk = f(x)\n",
    "        fnorms = [fnorms; norm(fk)] \n",
    "        if norm(fk) < tol \n",
    "            break \n",
    "        end; \n",
    "        x = x - Df(x) \\ fk \n",
    "    end  \n",
    "    return x, fnorms \n",
    "end"
   ]
  },
  {
   "cell_type": "code",
   "execution_count": 10,
   "metadata": {},
   "outputs": [],
   "source": [
    "Df(x) = 4 / (exp(x) + exp(-x))^2;"
   ]
  },
  {
   "cell_type": "code",
   "execution_count": 16,
   "metadata": {},
   "outputs": [],
   "source": [
    " f(x) = (exp(x)-exp(-x)) / (exp(x)+exp(-x));"
   ]
  },
  {
   "cell_type": "markdown",
   "metadata": {},
   "source": [
    "### let's try x = 0.95"
   ]
  },
  {
   "cell_type": "code",
   "execution_count": 18,
   "metadata": {},
   "outputs": [
    {
     "ename": "UndefVarError",
     "evalue": "UndefVarError: norm not defined",
     "output_type": "error",
     "traceback": [
      "UndefVarError: norm not defined",
      "",
      "Stacktrace:",
      " [1] #newtons_method#3(::Int64, ::Float64, ::Function, ::typeof(f), ::Function, ::Float64) at ./In[2]:6",
      " [2] newtons_method(::Function, ::Function, ::Float64) at ./In[2]:2",
      " [3] top-level scope at In[18]:1"
     ]
    }
   ],
   "source": [
    "x, fnorms = newtons_method(f,Df,0.95); "
   ]
  },
  {
   "cell_type": "code",
   "execution_count": 17,
   "metadata": {},
   "outputs": [
    {
     "data": {
      "text/plain": [
       "0.7397830512740042"
      ]
     },
     "execution_count": 17,
     "metadata": {},
     "output_type": "execute_result"
    }
   ],
   "source": [
    "x=0.95\n",
    "f(x)"
   ]
  },
  {
   "cell_type": "code",
   "execution_count": 13,
   "metadata": {},
   "outputs": [
    {
     "ename": "UndefVarError",
     "evalue": "UndefVarError: fnorms not defined",
     "output_type": "error",
     "traceback": [
      "UndefVarError: fnorms not defined",
      "",
      "Stacktrace:",
      " [1] top-level scope at In[13]:1"
     ]
    }
   ],
   "source": [
    "fnorms "
   ]
  },
  {
   "cell_type": "code",
   "execution_count": 14,
   "metadata": {},
   "outputs": [
    {
     "ename": "LoadError",
     "evalue": "syntax: extra token \"Plots\" after end of expression",
     "output_type": "error",
     "traceback": [
      "syntax: extra token \"Plots\" after end of expression",
      ""
     ]
    }
   ],
   "source": [
    "Using Plots \n",
    "plot(fnorms, shape=:circle, legend = false, xlabel = \"k\", ylabel = \"|f|\")"
   ]
  }
 ],
 "metadata": {
  "kernelspec": {
   "display_name": "Julia 1.0.3",
   "language": "julia",
   "name": "julia-1.0"
  },
  "language_info": {
   "file_extension": ".jl",
   "mimetype": "application/julia",
   "name": "julia",
   "version": "1.0.3"
  }
 },
 "nbformat": 4,
 "nbformat_minor": 2
}
