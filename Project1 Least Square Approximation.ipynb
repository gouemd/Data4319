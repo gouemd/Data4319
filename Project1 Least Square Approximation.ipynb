{
 "cells": [
  {
   "cell_type": "markdown",
   "metadata": {},
   "source": [
    "## Least Square Approximation"
   ]
  },
  {
   "cell_type": "markdown",
   "metadata": {},
   "source": [
    "### Let's create the data to be used"
   ]
  },
  {
   "cell_type": "code",
   "execution_count": 1,
   "metadata": {},
   "outputs": [],
   "source": [
    "using LinearAlgebra"
   ]
  },
  {
   "cell_type": "code",
   "execution_count": 2,
   "metadata": {
    "scrolled": true
   },
   "outputs": [
    {
     "data": {
      "text/plain": [
       "1×4 Array{Int64,2}:\n",
       " 2  8  0  20"
      ]
     },
     "execution_count": 2,
     "metadata": {},
     "output_type": "execute_result"
    }
   ],
   "source": [
    "A= [2 0; 1 1; 1 3; 4 0]\n",
    "b1 = [2 8 0 20 ]"
   ]
  },
  {
   "cell_type": "code",
   "execution_count": 3,
   "metadata": {},
   "outputs": [
    {
     "data": {
      "image/svg+xml": [
       "<?xml version=\"1.0\" encoding=\"utf-8\"?>\n",
       "<svg xmlns=\"http://www.w3.org/2000/svg\" xmlns:xlink=\"http://www.w3.org/1999/xlink\" width=\"600\" height=\"400\" viewBox=\"0 0 2400 1600\">\n",
       "<defs>\n",
       "  <clipPath id=\"clip5900\">\n",
       "    <rect x=\"0\" y=\"0\" width=\"2000\" height=\"2000\"/>\n",
       "  </clipPath>\n",
       "</defs>\n",
       "<defs>\n",
       "  <clipPath id=\"clip5901\">\n",
       "    <rect x=\"0\" y=\"0\" width=\"2400\" height=\"1600\"/>\n",
       "  </clipPath>\n",
       "</defs>\n",
       "<polygon clip-path=\"url(#clip5901)\" points=\"\n",
       "0,1600 2400,1600 2400,0 0,0 \n",
       "  \" fill=\"#ffffff\" fill-rule=\"evenodd\" fill-opacity=\"1\"/>\n",
       "<defs>\n",
       "  <clipPath id=\"clip5902\">\n",
       "    <rect x=\"480\" y=\"0\" width=\"1681\" height=\"1600\"/>\n",
       "  </clipPath>\n",
       "</defs>\n",
       "<polygon clip-path=\"url(#clip5901)\" points=\"\n",
       "211.005,1440.48 2321.26,1440.48 2321.26,125.984 211.005,125.984 \n",
       "  \" fill=\"#ffffff\" fill-rule=\"evenodd\" fill-opacity=\"1\"/>\n",
       "<defs>\n",
       "  <clipPath id=\"clip5903\">\n",
       "    <rect x=\"211\" y=\"125\" width=\"2111\" height=\"1315\"/>\n",
       "  </clipPath>\n",
       "</defs>\n",
       "<polyline clip-path=\"url(#clip5903)\" style=\"stroke:#000000; stroke-width:2; stroke-opacity:0.1; fill:none\" points=\"\n",
       "  270.729,1440.48 270.729,125.984 \n",
       "  \"/>\n",
       "<polyline clip-path=\"url(#clip5903)\" style=\"stroke:#000000; stroke-width:2; stroke-opacity:0.1; fill:none\" points=\"\n",
       "  768.431,1440.48 768.431,125.984 \n",
       "  \"/>\n",
       "<polyline clip-path=\"url(#clip5903)\" style=\"stroke:#000000; stroke-width:2; stroke-opacity:0.1; fill:none\" points=\"\n",
       "  1266.13,1440.48 1266.13,125.984 \n",
       "  \"/>\n",
       "<polyline clip-path=\"url(#clip5903)\" style=\"stroke:#000000; stroke-width:2; stroke-opacity:0.1; fill:none\" points=\"\n",
       "  1763.83,1440.48 1763.83,125.984 \n",
       "  \"/>\n",
       "<polyline clip-path=\"url(#clip5903)\" style=\"stroke:#000000; stroke-width:2; stroke-opacity:0.1; fill:none\" points=\"\n",
       "  2261.54,1440.48 2261.54,125.984 \n",
       "  \"/>\n",
       "<polyline clip-path=\"url(#clip5903)\" style=\"stroke:#000000; stroke-width:2; stroke-opacity:0.1; fill:none\" points=\"\n",
       "  211.005,1403.28 2321.26,1403.28 \n",
       "  \"/>\n",
       "<polyline clip-path=\"url(#clip5903)\" style=\"stroke:#000000; stroke-width:2; stroke-opacity:0.1; fill:none\" points=\"\n",
       "  211.005,1093.26 2321.26,1093.26 \n",
       "  \"/>\n",
       "<polyline clip-path=\"url(#clip5903)\" style=\"stroke:#000000; stroke-width:2; stroke-opacity:0.1; fill:none\" points=\"\n",
       "  211.005,783.233 2321.26,783.233 \n",
       "  \"/>\n",
       "<polyline clip-path=\"url(#clip5903)\" style=\"stroke:#000000; stroke-width:2; stroke-opacity:0.1; fill:none\" points=\"\n",
       "  211.005,473.21 2321.26,473.21 \n",
       "  \"/>\n",
       "<polyline clip-path=\"url(#clip5903)\" style=\"stroke:#000000; stroke-width:2; stroke-opacity:0.1; fill:none\" points=\"\n",
       "  211.005,163.187 2321.26,163.187 \n",
       "  \"/>\n",
       "<polyline clip-path=\"url(#clip5901)\" style=\"stroke:#000000; stroke-width:4; stroke-opacity:1; fill:none\" points=\"\n",
       "  211.005,1440.48 2321.26,1440.48 \n",
       "  \"/>\n",
       "<polyline clip-path=\"url(#clip5901)\" style=\"stroke:#000000; stroke-width:4; stroke-opacity:1; fill:none\" points=\"\n",
       "  211.005,1440.48 211.005,125.984 \n",
       "  \"/>\n",
       "<polyline clip-path=\"url(#clip5901)\" style=\"stroke:#000000; stroke-width:4; stroke-opacity:1; fill:none\" points=\"\n",
       "  270.729,1440.48 270.729,1420.77 \n",
       "  \"/>\n",
       "<polyline clip-path=\"url(#clip5901)\" style=\"stroke:#000000; stroke-width:4; stroke-opacity:1; fill:none\" points=\"\n",
       "  768.431,1440.48 768.431,1420.77 \n",
       "  \"/>\n",
       "<polyline clip-path=\"url(#clip5901)\" style=\"stroke:#000000; stroke-width:4; stroke-opacity:1; fill:none\" points=\"\n",
       "  1266.13,1440.48 1266.13,1420.77 \n",
       "  \"/>\n",
       "<polyline clip-path=\"url(#clip5901)\" style=\"stroke:#000000; stroke-width:4; stroke-opacity:1; fill:none\" points=\"\n",
       "  1763.83,1440.48 1763.83,1420.77 \n",
       "  \"/>\n",
       "<polyline clip-path=\"url(#clip5901)\" style=\"stroke:#000000; stroke-width:4; stroke-opacity:1; fill:none\" points=\"\n",
       "  2261.54,1440.48 2261.54,1420.77 \n",
       "  \"/>\n",
       "<polyline clip-path=\"url(#clip5901)\" style=\"stroke:#000000; stroke-width:4; stroke-opacity:1; fill:none\" points=\"\n",
       "  211.005,1403.28 242.659,1403.28 \n",
       "  \"/>\n",
       "<polyline clip-path=\"url(#clip5901)\" style=\"stroke:#000000; stroke-width:4; stroke-opacity:1; fill:none\" points=\"\n",
       "  211.005,1093.26 242.659,1093.26 \n",
       "  \"/>\n",
       "<polyline clip-path=\"url(#clip5901)\" style=\"stroke:#000000; stroke-width:4; stroke-opacity:1; fill:none\" points=\"\n",
       "  211.005,783.233 242.659,783.233 \n",
       "  \"/>\n",
       "<polyline clip-path=\"url(#clip5901)\" style=\"stroke:#000000; stroke-width:4; stroke-opacity:1; fill:none\" points=\"\n",
       "  211.005,473.21 242.659,473.21 \n",
       "  \"/>\n",
       "<polyline clip-path=\"url(#clip5901)\" style=\"stroke:#000000; stroke-width:4; stroke-opacity:1; fill:none\" points=\"\n",
       "  211.005,163.187 242.659,163.187 \n",
       "  \"/>\n",
       "<g clip-path=\"url(#clip5901)\">\n",
       "<text style=\"fill:#000000; fill-opacity:1; font-family:Arial,Helvetica Neue,Helvetica,sans-serif; font-size:48px; text-anchor:middle;\" transform=\"rotate(0, 270.729, 1494.48)\" x=\"270.729\" y=\"1494.48\">0</text>\n",
       "</g>\n",
       "<g clip-path=\"url(#clip5901)\">\n",
       "<text style=\"fill:#000000; fill-opacity:1; font-family:Arial,Helvetica Neue,Helvetica,sans-serif; font-size:48px; text-anchor:middle;\" transform=\"rotate(0, 768.431, 1494.48)\" x=\"768.431\" y=\"1494.48\">1</text>\n",
       "</g>\n",
       "<g clip-path=\"url(#clip5901)\">\n",
       "<text style=\"fill:#000000; fill-opacity:1; font-family:Arial,Helvetica Neue,Helvetica,sans-serif; font-size:48px; text-anchor:middle;\" transform=\"rotate(0, 1266.13, 1494.48)\" x=\"1266.13\" y=\"1494.48\">2</text>\n",
       "</g>\n",
       "<g clip-path=\"url(#clip5901)\">\n",
       "<text style=\"fill:#000000; fill-opacity:1; font-family:Arial,Helvetica Neue,Helvetica,sans-serif; font-size:48px; text-anchor:middle;\" transform=\"rotate(0, 1763.83, 1494.48)\" x=\"1763.83\" y=\"1494.48\">3</text>\n",
       "</g>\n",
       "<g clip-path=\"url(#clip5901)\">\n",
       "<text style=\"fill:#000000; fill-opacity:1; font-family:Arial,Helvetica Neue,Helvetica,sans-serif; font-size:48px; text-anchor:middle;\" transform=\"rotate(0, 2261.54, 1494.48)\" x=\"2261.54\" y=\"1494.48\">4</text>\n",
       "</g>\n",
       "<g clip-path=\"url(#clip5901)\">\n",
       "<text style=\"fill:#000000; fill-opacity:1; font-family:Arial,Helvetica Neue,Helvetica,sans-serif; font-size:48px; text-anchor:end;\" transform=\"rotate(0, 187.005, 1420.78)\" x=\"187.005\" y=\"1420.78\">0</text>\n",
       "</g>\n",
       "<g clip-path=\"url(#clip5901)\">\n",
       "<text style=\"fill:#000000; fill-opacity:1; font-family:Arial,Helvetica Neue,Helvetica,sans-serif; font-size:48px; text-anchor:end;\" transform=\"rotate(0, 187.005, 1110.76)\" x=\"187.005\" y=\"1110.76\">5</text>\n",
       "</g>\n",
       "<g clip-path=\"url(#clip5901)\">\n",
       "<text style=\"fill:#000000; fill-opacity:1; font-family:Arial,Helvetica Neue,Helvetica,sans-serif; font-size:48px; text-anchor:end;\" transform=\"rotate(0, 187.005, 800.733)\" x=\"187.005\" y=\"800.733\">10</text>\n",
       "</g>\n",
       "<g clip-path=\"url(#clip5901)\">\n",
       "<text style=\"fill:#000000; fill-opacity:1; font-family:Arial,Helvetica Neue,Helvetica,sans-serif; font-size:48px; text-anchor:end;\" transform=\"rotate(0, 187.005, 490.71)\" x=\"187.005\" y=\"490.71\">15</text>\n",
       "</g>\n",
       "<g clip-path=\"url(#clip5901)\">\n",
       "<text style=\"fill:#000000; fill-opacity:1; font-family:Arial,Helvetica Neue,Helvetica,sans-serif; font-size:48px; text-anchor:end;\" transform=\"rotate(0, 187.005, 180.687)\" x=\"187.005\" y=\"180.687\">20</text>\n",
       "</g>\n",
       "<g clip-path=\"url(#clip5901)\">\n",
       "<text style=\"fill:#000000; fill-opacity:1; font-family:Arial,Helvetica Neue,Helvetica,sans-serif; font-size:84px; text-anchor:middle;\" transform=\"rotate(0, 1266.13, 73.2)\" x=\"1266.13\" y=\"73.2\">Data Points</text>\n",
       "</g>\n",
       "<g clip-path=\"url(#clip5901)\">\n",
       "<text style=\"fill:#000000; fill-opacity:1; font-family:Arial,Helvetica Neue,Helvetica,sans-serif; font-size:66px; text-anchor:middle;\" transform=\"rotate(0, 1266.13, 1590.4)\" x=\"1266.13\" y=\"1590.4\">time (s)</text>\n",
       "</g>\n",
       "<g clip-path=\"url(#clip5901)\">\n",
       "<text style=\"fill:#000000; fill-opacity:1; font-family:Arial,Helvetica Neue,Helvetica,sans-serif; font-size:66px; text-anchor:middle;\" transform=\"rotate(-90, 57.6, 783.233)\" x=\"57.6\" y=\"783.233\">distance (m)</text>\n",
       "</g>\n",
       "<polygon clip-path=\"url(#clip5903)\" style=\"fill:#000000; fill-opacity:1\" points=\"\n",
       "  270.729,1375.28 242.729,1403.28 270.729,1431.28 298.729,1403.28 270.729,1375.28 \n",
       "  \"/>\n",
       "<polygon clip-path=\"url(#clip5903)\" style=\"fill:#ff0000; fill-opacity:1\" points=\"\n",
       "  270.729,1379.28 246.729,1403.28 270.729,1427.28 294.729,1403.28 270.729,1379.28 \n",
       "  \"/>\n",
       "<polygon clip-path=\"url(#clip5903)\" style=\"fill:#000000; fill-opacity:1\" points=\"\n",
       "  768.431,879.243 740.431,907.243 768.431,935.243 796.431,907.243 768.431,879.243 \n",
       "  \"/>\n",
       "<polygon clip-path=\"url(#clip5903)\" style=\"fill:#ff0000; fill-opacity:1\" points=\"\n",
       "  768.431,883.243 744.431,907.243 768.431,931.243 792.431,907.243 768.431,883.243 \n",
       "  \"/>\n",
       "<polygon clip-path=\"url(#clip5903)\" style=\"fill:#000000; fill-opacity:1\" points=\"\n",
       "  1763.83,879.243 1735.83,907.243 1763.83,935.243 1791.83,907.243 1763.83,879.243 \n",
       "  \"/>\n",
       "<polygon clip-path=\"url(#clip5903)\" style=\"fill:#ff0000; fill-opacity:1\" points=\"\n",
       "  1763.83,883.243 1739.83,907.243 1763.83,931.243 1787.83,907.243 1763.83,883.243 \n",
       "  \"/>\n",
       "<polygon clip-path=\"url(#clip5903)\" style=\"fill:#000000; fill-opacity:1\" points=\"\n",
       "  2261.54,135.187 2233.54,163.187 2261.54,191.187 2289.54,163.187 2261.54,135.187 \n",
       "  \"/>\n",
       "<polygon clip-path=\"url(#clip5903)\" style=\"fill:#ff0000; fill-opacity:1\" points=\"\n",
       "  2261.54,139.187 2237.54,163.187 2261.54,187.187 2285.54,163.187 2261.54,139.187 \n",
       "  \"/>\n",
       "</svg>\n"
      ]
     },
     "execution_count": 3,
     "metadata": {},
     "output_type": "execute_result"
    }
   ],
   "source": [
    "using Plots\n",
    "points = [(0,0), (1,8), (3,8), (4,20)]\n",
    "b = [-1,0,1]\n",
    "scatter(points, label=\"data points\", legend = false, markershapes = :diamond, \n",
    "    markercolor = :red, markersize = :6, title = \"Data Points\",\n",
    "    xlabel = \"time (s)\", ylabel = \"distance (m)\")"
   ]
  },
  {
   "cell_type": "markdown",
   "metadata": {},
   "source": [
    "### The over-determined set of three equations in two variables Ax = b, \n",
    "2x1 = 2\n",
    "\n",
    "x1 + x2 = 8\n",
    "\n",
    "x1 + 3x2 = 0\n",
    "\n",
    "4x2 = 20\n",
    "\n",
    "The system has no solution because the third equation does not hold"
   ]
  },
  {
   "cell_type": "markdown",
   "metadata": {},
   "source": [
    "### The corresponding least squares problem is to minimize the following equation\n",
    "2x1 = 2 x1 + x2 = 8 x1 + 3x2 = 0 4x2 = 20"
   ]
  },
  {
   "cell_type": "code",
   "execution_count": 5,
   "metadata": {},
   "outputs": [
    {
     "data": {
      "text/plain": [
       "2×4 Adjoint{Int64,Array{Int64,2}}:\n",
       " 2  1  1  4\n",
       " 0  1  3  0"
      ]
     },
     "execution_count": 5,
     "metadata": {},
     "output_type": "execute_result"
    }
   ],
   "source": [
    "A'"
   ]
  },
  {
   "cell_type": "code",
   "execution_count": 6,
   "metadata": {},
   "outputs": [
    {
     "ename": "DimensionMismatch",
     "evalue": "DimensionMismatch(\"matrix A has dimensions (2,4), matrix B has dimensions (1,4)\")",
     "output_type": "error",
     "traceback": [
      "DimensionMismatch(\"matrix A has dimensions (2,4), matrix B has dimensions (1,4)\")",
      "",
      "Stacktrace:",
      " [1] _generic_matmatmul!(::Array{Int64,2}, ::Char, ::Char, ::Array{Int64,2}, ::Array{Int64,2}) at /buildworker/worker/package_linux64/build/usr/share/julia/stdlib/v1.0/LinearAlgebra/src/matmul.jl:591",
      " [2] generic_matmatmul!(::Array{Int64,2}, ::Char, ::Char, ::Array{Int64,2}, ::Array{Int64,2}) at /buildworker/worker/package_linux64/build/usr/share/julia/stdlib/v1.0/LinearAlgebra/src/matmul.jl:581",
      " [3] mul! at /buildworker/worker/package_linux64/build/usr/share/julia/stdlib/v1.0/LinearAlgebra/src/matmul.jl:293 [inlined]",
      " [4] *(::Adjoint{Int64,Array{Int64,2}}, ::Array{Int64,2}) at /buildworker/worker/package_linux64/build/usr/share/julia/stdlib/v1.0/LinearAlgebra/src/matmul.jl:142",
      " [5] top-level scope at In[6]:1"
     ]
    }
   ],
   "source": [
    "A' * b1"
   ]
  },
  {
   "cell_type": "markdown",
   "metadata": {},
   "source": [
    "### Let's get xhat"
   ]
  },
  {
   "cell_type": "code",
   "execution_count": 4,
   "metadata": {},
   "outputs": [
    {
     "ename": "DimensionMismatch",
     "evalue": "DimensionMismatch(\"matrix A has dimensions (2,4), matrix B has dimensions (1,4)\")",
     "output_type": "error",
     "traceback": [
      "DimensionMismatch(\"matrix A has dimensions (2,4), matrix B has dimensions (1,4)\")",
      "",
      "Stacktrace:",
      " [1] _generic_matmatmul!(::Array{Int64,2}, ::Char, ::Char, ::Array{Int64,2}, ::Array{Int64,2}) at /buildworker/worker/package_linux64/build/usr/share/julia/stdlib/v1.0/LinearAlgebra/src/matmul.jl:591",
      " [2] generic_matmatmul!(::Array{Int64,2}, ::Char, ::Char, ::Array{Int64,2}, ::Array{Int64,2}) at /buildworker/worker/package_linux64/build/usr/share/julia/stdlib/v1.0/LinearAlgebra/src/matmul.jl:581",
      " [3] mul! at /buildworker/worker/package_linux64/build/usr/share/julia/stdlib/v1.0/LinearAlgebra/src/matmul.jl:293 [inlined]",
      " [4] *(::Adjoint{Int64,Array{Int64,2}}, ::Array{Int64,2}) at /buildworker/worker/package_linux64/build/usr/share/julia/stdlib/v1.0/LinearAlgebra/src/matmul.jl:142",
      " [5] top-level scope at In[4]:1"
     ]
    }
   ],
   "source": [
    "xhat = (A'*A)\\(A'*b1)"
   ]
  },
  {
   "cell_type": "markdown",
   "metadata": {},
   "source": [
    "### Let's get the residual"
   ]
  },
  {
   "cell_type": "code",
   "execution_count": 5,
   "metadata": {},
   "outputs": [
    {
     "ename": "UndefVarError",
     "evalue": "UndefVarError: xhat not defined",
     "output_type": "error",
     "traceback": [
      "UndefVarError: xhat not defined",
      "",
      "Stacktrace:",
      " [1] top-level scope at In[5]:1"
     ]
    }
   ],
   "source": [
    "rhat = A*xhat - b"
   ]
  },
  {
   "cell_type": "code",
   "execution_count": 39,
   "metadata": {},
   "outputs": [
    {
     "data": {
      "image/svg+xml": [
       "<?xml version=\"1.0\" encoding=\"utf-8\"?>\n",
       "<svg xmlns=\"http://www.w3.org/2000/svg\" xmlns:xlink=\"http://www.w3.org/1999/xlink\" width=\"600\" height=\"400\" viewBox=\"0 0 2400 1600\">\n",
       "<defs>\n",
       "  <clipPath id=\"clip8400\">\n",
       "    <rect x=\"0\" y=\"0\" width=\"2000\" height=\"2000\"/>\n",
       "  </clipPath>\n",
       "</defs>\n",
       "<defs>\n",
       "  <clipPath id=\"clip8401\">\n",
       "    <rect x=\"0\" y=\"0\" width=\"2400\" height=\"1600\"/>\n",
       "  </clipPath>\n",
       "</defs>\n",
       "<polygon clip-path=\"url(#clip8401)\" points=\"\n",
       "0,1600 2400,1600 2400,0 0,0 \n",
       "  \" fill=\"#ffffff\" fill-rule=\"evenodd\" fill-opacity=\"1\"/>\n",
       "<defs>\n",
       "  <clipPath id=\"clip8402\">\n",
       "    <rect x=\"480\" y=\"0\" width=\"1681\" height=\"1600\"/>\n",
       "  </clipPath>\n",
       "</defs>\n",
       "<polygon clip-path=\"url(#clip8401)\" points=\"\n",
       "211.005,1440.48 2321.26,1440.48 2321.26,125.984 211.005,125.984 \n",
       "  \" fill=\"#ffffff\" fill-rule=\"evenodd\" fill-opacity=\"1\"/>\n",
       "<defs>\n",
       "  <clipPath id=\"clip8403\">\n",
       "    <rect x=\"211\" y=\"125\" width=\"2111\" height=\"1315\"/>\n",
       "  </clipPath>\n",
       "</defs>\n",
       "<polyline clip-path=\"url(#clip8403)\" style=\"stroke:#000000; stroke-width:2; stroke-opacity:0.1; fill:none\" points=\"\n",
       "  308.479,1440.48 308.479,125.984 \n",
       "  \"/>\n",
       "<polyline clip-path=\"url(#clip8403)\" style=\"stroke:#000000; stroke-width:2; stroke-opacity:0.1; fill:none\" points=\"\n",
       "  788.804,1440.48 788.804,125.984 \n",
       "  \"/>\n",
       "<polyline clip-path=\"url(#clip8403)\" style=\"stroke:#000000; stroke-width:2; stroke-opacity:0.1; fill:none\" points=\"\n",
       "  1269.13,1440.48 1269.13,125.984 \n",
       "  \"/>\n",
       "<polyline clip-path=\"url(#clip8403)\" style=\"stroke:#000000; stroke-width:2; stroke-opacity:0.1; fill:none\" points=\"\n",
       "  1749.45,1440.48 1749.45,125.984 \n",
       "  \"/>\n",
       "<polyline clip-path=\"url(#clip8403)\" style=\"stroke:#000000; stroke-width:2; stroke-opacity:0.1; fill:none\" points=\"\n",
       "  2229.78,1440.48 2229.78,125.984 \n",
       "  \"/>\n",
       "<polyline clip-path=\"url(#clip8403)\" style=\"stroke:#000000; stroke-width:2; stroke-opacity:0.1; fill:none\" points=\"\n",
       "  211.005,1381.38 2321.26,1381.38 \n",
       "  \"/>\n",
       "<polyline clip-path=\"url(#clip8403)\" style=\"stroke:#000000; stroke-width:2; stroke-opacity:0.1; fill:none\" points=\"\n",
       "  211.005,1076.83 2321.26,1076.83 \n",
       "  \"/>\n",
       "<polyline clip-path=\"url(#clip8403)\" style=\"stroke:#000000; stroke-width:2; stroke-opacity:0.1; fill:none\" points=\"\n",
       "  211.005,772.284 2321.26,772.284 \n",
       "  \"/>\n",
       "<polyline clip-path=\"url(#clip8403)\" style=\"stroke:#000000; stroke-width:2; stroke-opacity:0.1; fill:none\" points=\"\n",
       "  211.005,467.736 2321.26,467.736 \n",
       "  \"/>\n",
       "<polyline clip-path=\"url(#clip8403)\" style=\"stroke:#000000; stroke-width:2; stroke-opacity:0.1; fill:none\" points=\"\n",
       "  211.005,163.187 2321.26,163.187 \n",
       "  \"/>\n",
       "<polyline clip-path=\"url(#clip8401)\" style=\"stroke:#000000; stroke-width:4; stroke-opacity:1; fill:none\" points=\"\n",
       "  211.005,1440.48 2321.26,1440.48 \n",
       "  \"/>\n",
       "<polyline clip-path=\"url(#clip8401)\" style=\"stroke:#000000; stroke-width:4; stroke-opacity:1; fill:none\" points=\"\n",
       "  211.005,1440.48 211.005,125.984 \n",
       "  \"/>\n",
       "<polyline clip-path=\"url(#clip8401)\" style=\"stroke:#000000; stroke-width:4; stroke-opacity:1; fill:none\" points=\"\n",
       "  308.479,1440.48 308.479,1420.77 \n",
       "  \"/>\n",
       "<polyline clip-path=\"url(#clip8401)\" style=\"stroke:#000000; stroke-width:4; stroke-opacity:1; fill:none\" points=\"\n",
       "  788.804,1440.48 788.804,1420.77 \n",
       "  \"/>\n",
       "<polyline clip-path=\"url(#clip8401)\" style=\"stroke:#000000; stroke-width:4; stroke-opacity:1; fill:none\" points=\"\n",
       "  1269.13,1440.48 1269.13,1420.77 \n",
       "  \"/>\n",
       "<polyline clip-path=\"url(#clip8401)\" style=\"stroke:#000000; stroke-width:4; stroke-opacity:1; fill:none\" points=\"\n",
       "  1749.45,1440.48 1749.45,1420.77 \n",
       "  \"/>\n",
       "<polyline clip-path=\"url(#clip8401)\" style=\"stroke:#000000; stroke-width:4; stroke-opacity:1; fill:none\" points=\"\n",
       "  2229.78,1440.48 2229.78,1420.77 \n",
       "  \"/>\n",
       "<polyline clip-path=\"url(#clip8401)\" style=\"stroke:#000000; stroke-width:4; stroke-opacity:1; fill:none\" points=\"\n",
       "  211.005,1381.38 242.659,1381.38 \n",
       "  \"/>\n",
       "<polyline clip-path=\"url(#clip8401)\" style=\"stroke:#000000; stroke-width:4; stroke-opacity:1; fill:none\" points=\"\n",
       "  211.005,1076.83 242.659,1076.83 \n",
       "  \"/>\n",
       "<polyline clip-path=\"url(#clip8401)\" style=\"stroke:#000000; stroke-width:4; stroke-opacity:1; fill:none\" points=\"\n",
       "  211.005,772.284 242.659,772.284 \n",
       "  \"/>\n",
       "<polyline clip-path=\"url(#clip8401)\" style=\"stroke:#000000; stroke-width:4; stroke-opacity:1; fill:none\" points=\"\n",
       "  211.005,467.736 242.659,467.736 \n",
       "  \"/>\n",
       "<polyline clip-path=\"url(#clip8401)\" style=\"stroke:#000000; stroke-width:4; stroke-opacity:1; fill:none\" points=\"\n",
       "  211.005,163.187 242.659,163.187 \n",
       "  \"/>\n",
       "<g clip-path=\"url(#clip8401)\">\n",
       "<text style=\"fill:#000000; fill-opacity:1; font-family:Arial,Helvetica Neue,Helvetica,sans-serif; font-size:48px; text-anchor:middle;\" transform=\"rotate(0, 308.479, 1494.48)\" x=\"308.479\" y=\"1494.48\">0</text>\n",
       "</g>\n",
       "<g clip-path=\"url(#clip8401)\">\n",
       "<text style=\"fill:#000000; fill-opacity:1; font-family:Arial,Helvetica Neue,Helvetica,sans-serif; font-size:48px; text-anchor:middle;\" transform=\"rotate(0, 788.804, 1494.48)\" x=\"788.804\" y=\"1494.48\">1</text>\n",
       "</g>\n",
       "<g clip-path=\"url(#clip8401)\">\n",
       "<text style=\"fill:#000000; fill-opacity:1; font-family:Arial,Helvetica Neue,Helvetica,sans-serif; font-size:48px; text-anchor:middle;\" transform=\"rotate(0, 1269.13, 1494.48)\" x=\"1269.13\" y=\"1494.48\">2</text>\n",
       "</g>\n",
       "<g clip-path=\"url(#clip8401)\">\n",
       "<text style=\"fill:#000000; fill-opacity:1; font-family:Arial,Helvetica Neue,Helvetica,sans-serif; font-size:48px; text-anchor:middle;\" transform=\"rotate(0, 1749.45, 1494.48)\" x=\"1749.45\" y=\"1494.48\">3</text>\n",
       "</g>\n",
       "<g clip-path=\"url(#clip8401)\">\n",
       "<text style=\"fill:#000000; fill-opacity:1; font-family:Arial,Helvetica Neue,Helvetica,sans-serif; font-size:48px; text-anchor:middle;\" transform=\"rotate(0, 2229.78, 1494.48)\" x=\"2229.78\" y=\"1494.48\">4</text>\n",
       "</g>\n",
       "<g clip-path=\"url(#clip8401)\">\n",
       "<text style=\"fill:#000000; fill-opacity:1; font-family:Arial,Helvetica Neue,Helvetica,sans-serif; font-size:48px; text-anchor:end;\" transform=\"rotate(0, 187.005, 1398.88)\" x=\"187.005\" y=\"1398.88\">0</text>\n",
       "</g>\n",
       "<g clip-path=\"url(#clip8401)\">\n",
       "<text style=\"fill:#000000; fill-opacity:1; font-family:Arial,Helvetica Neue,Helvetica,sans-serif; font-size:48px; text-anchor:end;\" transform=\"rotate(0, 187.005, 1094.33)\" x=\"187.005\" y=\"1094.33\">5</text>\n",
       "</g>\n",
       "<g clip-path=\"url(#clip8401)\">\n",
       "<text style=\"fill:#000000; fill-opacity:1; font-family:Arial,Helvetica Neue,Helvetica,sans-serif; font-size:48px; text-anchor:end;\" transform=\"rotate(0, 187.005, 789.784)\" x=\"187.005\" y=\"789.784\">10</text>\n",
       "</g>\n",
       "<g clip-path=\"url(#clip8401)\">\n",
       "<text style=\"fill:#000000; fill-opacity:1; font-family:Arial,Helvetica Neue,Helvetica,sans-serif; font-size:48px; text-anchor:end;\" transform=\"rotate(0, 187.005, 485.236)\" x=\"187.005\" y=\"485.236\">15</text>\n",
       "</g>\n",
       "<g clip-path=\"url(#clip8401)\">\n",
       "<text style=\"fill:#000000; fill-opacity:1; font-family:Arial,Helvetica Neue,Helvetica,sans-serif; font-size:48px; text-anchor:end;\" transform=\"rotate(0, 187.005, 180.687)\" x=\"187.005\" y=\"180.687\">20</text>\n",
       "</g>\n",
       "<g clip-path=\"url(#clip8401)\">\n",
       "<text style=\"fill:#000000; fill-opacity:1; font-family:Arial,Helvetica Neue,Helvetica,sans-serif; font-size:84px; text-anchor:middle;\" transform=\"rotate(0, 1266.13, 73.2)\" x=\"1266.13\" y=\"73.2\">Linear Approximation</text>\n",
       "</g>\n",
       "<g clip-path=\"url(#clip8401)\">\n",
       "<text style=\"fill:#000000; fill-opacity:1; font-family:Arial,Helvetica Neue,Helvetica,sans-serif; font-size:66px; text-anchor:middle;\" transform=\"rotate(0, 1266.13, 1590.4)\" x=\"1266.13\" y=\"1590.4\">time (s)</text>\n",
       "</g>\n",
       "<g clip-path=\"url(#clip8401)\">\n",
       "<text style=\"fill:#000000; fill-opacity:1; font-family:Arial,Helvetica Neue,Helvetica,sans-serif; font-size:66px; text-anchor:middle;\" transform=\"rotate(-90, 57.6, 783.233)\" x=\"57.6\" y=\"783.233\">distance (m)</text>\n",
       "</g>\n",
       "<polygon clip-path=\"url(#clip8403)\" style=\"fill:#000000; fill-opacity:1\" points=\"\n",
       "  308.479,1353.38 280.479,1381.38 308.479,1409.38 336.479,1381.38 308.479,1353.38 \n",
       "  \"/>\n",
       "<polygon clip-path=\"url(#clip8403)\" style=\"fill:#ff0000; fill-opacity:1\" points=\"\n",
       "  308.479,1357.38 284.479,1381.38 308.479,1405.38 332.479,1381.38 308.479,1357.38 \n",
       "  \"/>\n",
       "<polygon clip-path=\"url(#clip8403)\" style=\"fill:#000000; fill-opacity:1\" points=\"\n",
       "  788.804,866.103 760.804,894.103 788.804,922.103 816.804,894.103 788.804,866.103 \n",
       "  \"/>\n",
       "<polygon clip-path=\"url(#clip8403)\" style=\"fill:#ff0000; fill-opacity:1\" points=\"\n",
       "  788.804,870.103 764.804,894.103 788.804,918.103 812.804,894.103 788.804,870.103 \n",
       "  \"/>\n",
       "<polygon clip-path=\"url(#clip8403)\" style=\"fill:#000000; fill-opacity:1\" points=\"\n",
       "  1749.45,866.103 1721.45,894.103 1749.45,922.103 1777.45,894.103 1749.45,866.103 \n",
       "  \"/>\n",
       "<polygon clip-path=\"url(#clip8403)\" style=\"fill:#ff0000; fill-opacity:1\" points=\"\n",
       "  1749.45,870.103 1725.45,894.103 1749.45,918.103 1773.45,894.103 1749.45,870.103 \n",
       "  \"/>\n",
       "<polygon clip-path=\"url(#clip8403)\" style=\"fill:#000000; fill-opacity:1\" points=\"\n",
       "  2229.78,135.187 2201.78,163.187 2229.78,191.187 2257.78,163.187 2229.78,135.187 \n",
       "  \"/>\n",
       "<polygon clip-path=\"url(#clip8403)\" style=\"fill:#ff0000; fill-opacity:1\" points=\"\n",
       "  2229.78,139.187 2205.78,163.187 2229.78,187.187 2253.78,163.187 2229.78,139.187 \n",
       "  \"/>\n",
       "<polyline clip-path=\"url(#clip8403)\" style=\"stroke:#0000ff; stroke-width:4; stroke-opacity:1; fill:none\" points=\"\n",
       "  270.729,1403.28 454.63,1395.51 565.147,1390.83 658.588,1386.89 760.091,1382.59 853.667,1378.64 953.991,1374.4 1070.23,1369.49 1173.52,1365.12 1264.1,1361.29 \n",
       "  1362.86,1357.12 1462.21,1352.92 1572.05,1348.27 1676.55,1343.86 1785.22,1339.26 1876.69,1335.4 1988.37,1330.68 2093.35,1326.24 2261.54,1319.13 \n",
       "  \"/>\n",
       "</svg>\n"
      ]
     },
     "execution_count": 39,
     "metadata": {},
     "output_type": "execute_result"
    }
   ],
   "source": [
    "xhat = (A'*A)\\(A'*b)\n",
    "plot!(x->xhat[1] + xhat[2]*x, color = \"blue\", title = \"Linear Approximation\")"
   ]
  },
  {
   "cell_type": "code",
   "execution_count": 40,
   "metadata": {},
   "outputs": [
    {
     "ename": "UndefVarError",
     "evalue": "UndefVarError: norm not defined",
     "output_type": "error",
     "traceback": [
      "UndefVarError: norm not defined",
      "",
      "Stacktrace:",
      " [1] top-level scope at In[40]:1"
     ]
    }
   ],
   "source": [
    " norm(rhat) "
   ]
  },
  {
   "cell_type": "code",
   "execution_count": 46,
   "metadata": {},
   "outputs": [
    {
     "data": {
      "text/plain": [
       "2-element Array{Float64,1}:\n",
       "  0.5\n",
       " -0.5"
      ]
     },
     "execution_count": 46,
     "metadata": {},
     "output_type": "execute_result"
    }
   ],
   "source": [
    " x = [ 1/2, -1/2 ] "
   ]
  },
  {
   "cell_type": "code",
   "execution_count": 51,
   "metadata": {},
   "outputs": [
    {
     "ename": "StackOverflowError",
     "evalue": "StackOverflowError:",
     "output_type": "error",
     "traceback": [
      "StackOverflowError:",
      "",
      "Stacktrace:",
      " [1] Type at ./boot.jl:394 [inlined]",
      " [2] Type at ./boot.jl:403 [inlined]",
      " [3] similar at ./array.jl:332 [inlined]",
      " [4] similar at ./abstractarray.jl:575 [inlined]",
      " [5] *(::Array{Int64,2}, ::Array{Float64,1}) at /buildworker/worker/package_linux64/build/usr/share/julia/stdlib/v1.0/LinearAlgebra/src/matmul.jl:50",
      " [6] -(::Array{Float64,1}, ::Array{Int64,1}) at ./In[3]:1 (repeats 26173 times)",
      " [7] top-level scope at In[51]:1"
     ]
    }
   ],
   "source": [
    " r = A*x - b "
   ]
  },
  {
   "cell_type": "code",
   "execution_count": 49,
   "metadata": {},
   "outputs": [
    {
     "ename": "UndefVarError",
     "evalue": "UndefVarError: norm not defined",
     "output_type": "error",
     "traceback": [
      "UndefVarError: norm not defined",
      "",
      "Stacktrace:",
      " [1] top-level scope at In[49]:1"
     ]
    }
   ],
   "source": [
    "norm(r) "
   ]
  }
 ],
 "metadata": {
  "kernelspec": {
   "display_name": "Julia 1.0.3 (4 threads)",
   "language": "julia",
   "name": "julia-1.0k"
  },
  "language_info": {
   "file_extension": ".jl",
   "mimetype": "application/julia",
   "name": "julia",
   "version": "1.0.3"
  }
 },
 "nbformat": 4,
 "nbformat_minor": 2
}
